{
 "cells": [
  {
   "cell_type": "code",
   "execution_count": null,
   "id": "b51809ed",
   "metadata": {},
   "outputs": [],
   "source": [
    "#라이브러리 사용\n",
    "import tensorflow as tf\n",
    "import pandas as pd\n",
    " \n",
    "###########################\n",
    "# 데이터를 준비합니다.\n",
    "파일경로 = 'https://raw.githubusercontent.com/jcpark-git/sample/master/lemonade.csv'\n",
    "레모네이드 = pd.read_csv(파일경로)\n",
    "레모네이드.head()"
   ]
  },
  {
   "cell_type": "code",
   "execution_count": null,
   "id": "4f32c692",
   "metadata": {},
   "outputs": [],
   "source": [
    "# 종속변수, 독립변수\n",
    "독립 = 레모네이드[['온도']]\n",
    "종속 = 레모네이드[['판매량']]\n",
    "print(독립.shape, 종속.shape)"
   ]
  },
  {
   "cell_type": "code",
   "execution_count": null,
   "id": "c0532596",
   "metadata": {},
   "outputs": [],
   "source": [
    "###########################\n",
    "# 모델을 만듭니다.\n",
    "X = tf.keras.layers.Input(shape=[1])\n",
    "Y = tf.keras.layers.Dense(1)(X)\n",
    "model = tf.keras.models.Model(X, Y)\n",
    "model.compile(loss='mse')"
   ]
  },
  {
   "cell_type": "code",
   "execution_count": null,
   "id": "8137ef99",
   "metadata": {
    "scrolled": true
   },
   "outputs": [],
   "source": [
    "###########################\n",
    "# 모델을 학습시킵니다. \n",
    "model.fit(독립, 종속, epochs=1000, verbose=0)\n",
    "model.fit(독립, 종속, epochs=10)"
   ]
  },
  {
   "cell_type": "code",
   "execution_count": null,
   "id": "c742d9d8",
   "metadata": {},
   "outputs": [],
   "source": [
    "# 모델을 이용합니다. \n",
    "print(model.predict(독립))\n",
    "print(model.predict([[15]])) #15도일 경우 판매량 예측"
   ]
  },
  {
   "cell_type": "code",
   "execution_count": null,
   "id": "558b20e3",
   "metadata": {},
   "outputs": [],
   "source": []
  }
 ],
 "metadata": {
  "kernelspec": {
   "display_name": "Python 3 (ipykernel)",
   "language": "python",
   "name": "python3"
  },
  "language_info": {
   "codemirror_mode": {
    "name": "ipython",
    "version": 3
   },
   "file_extension": ".py",
   "mimetype": "text/x-python",
   "name": "python",
   "nbconvert_exporter": "python",
   "pygments_lexer": "ipython3",
   "version": "3.11.3"
  }
 },
 "nbformat": 4,
 "nbformat_minor": 5
}
