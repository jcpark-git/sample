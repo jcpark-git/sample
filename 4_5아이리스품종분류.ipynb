{
 "cells": [
  {
   "cell_type": "code",
   "execution_count": null,
   "id": "088a5d17",
   "metadata": {},
   "outputs": [],
   "source": [
    "###########################\n",
    "# 라이브러리 사용\n",
    "import tensorflow as tf\n",
    "import pandas as pd\n",
    " \n",
    "###########################\n",
    "# 1.과거의 데이터를 준비합니다.\n",
    "# 파일경로 = 'G:\\\\Python_Project\\\\tensorflow\\\\iris.csv'\n",
    "파일경로 = 'https://raw.githubusercontent.com/jcpark-git/sample/master/iris.csv'\n",
    "아이리스 = pd.read_csv(파일경로)\n",
    "아이리스.head()"
   ]
  },
  {
   "cell_type": "code",
   "execution_count": null,
   "id": "023a80b2",
   "metadata": {},
   "outputs": [],
   "source": [
    "# 원핫인코딩\n",
    "인코딩 = pd.get_dummies(아이리스)\n",
    "인코딩.head()\n",
    "print(인코딩.columns)"
   ]
  },
  {
   "cell_type": "code",
   "execution_count": null,
   "id": "8b4f334f",
   "metadata": {},
   "outputs": [],
   "source": [
    "#독립변수, 종속변수\n",
    "독립=인코딩[['꽃잎길이', '꽃잎폭', '꽃받침길이', '꽃받침폭']]\n",
    "종속=인코딩[['품종_setosa', '품종_versicolor','품종_virginica']]\n",
    "print(독립.shape, 종속.shape)"
   ]
  },
  {
   "cell_type": "code",
   "execution_count": null,
   "id": "1f4b7848",
   "metadata": {},
   "outputs": [],
   "source": [
    "###########################\n",
    "# 2. 모델의 구조를 만듭니다\n",
    "X = tf.keras.layers.Input(shape=[4])\n",
    " \n",
    "Y = tf.keras.layers.Dense(3, activation='softmax')(H)\n",
    "model = tf.keras.models.Model(X, Y)\n",
    "model.compile(loss='categorical_crossentropy', \n",
    "              metrics='accuracy')"
   ]
  },
  {
   "cell_type": "code",
   "execution_count": null,
   "id": "6ba34ea9",
   "metadata": {},
   "outputs": [],
   "source": [
    "###########################\n",
    "# 3.데이터로 모델을 학습(FIT)합니다.\n",
    "model.fit(독립, 종속, epochs=1000)\n",
    "# model.fit(독립, 종속, epochs=10)\n",
    " "
   ]
  },
  {
   "cell_type": "code",
   "execution_count": null,
   "id": "6eb6e38c",
   "metadata": {},
   "outputs": [],
   "source": [
    "###########################\n",
    "# 4. 모델을 이용합니다\n",
    "# 맨 처음 데이터 5개\n",
    "print(model.predict(독립[:5]))\n",
    "print(종속[:5])"
   ]
  },
  {
   "cell_type": "code",
   "execution_count": null,
   "id": "3e9d7fd7",
   "metadata": {},
   "outputs": [],
   "source": [
    "# 맨 마지막 데이터 5개\n",
    "print(model.predict(독립[-5:]))\n",
    "print(종속[-5:])"
   ]
  },
  {
   "cell_type": "code",
   "execution_count": null,
   "id": "ba09ce6c",
   "metadata": {},
   "outputs": [],
   "source": [
    "###########################\n",
    "# weights & bias 출력\n",
    "print(model.get_weights())"
   ]
  },
  {
   "cell_type": "code",
   "execution_count": null,
   "id": "99dfebc2",
   "metadata": {},
   "outputs": [],
   "source": []
  }
 ],
 "metadata": {
  "kernelspec": {
   "display_name": "Python 3 (ipykernel)",
   "language": "python",
   "name": "python3"
  },
  "language_info": {
   "codemirror_mode": {
    "name": "ipython",
    "version": 3
   },
   "file_extension": ".py",
   "mimetype": "text/x-python",
   "name": "python",
   "nbconvert_exporter": "python",
   "pygments_lexer": "ipython3",
   "version": "3.11.3"
  }
 },
 "nbformat": 4,
 "nbformat_minor": 5
}
