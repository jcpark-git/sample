{
 "cells": [
  {
   "cell_type": "code",
   "execution_count": null,
   "id": "d8cdeca7",
   "metadata": {},
   "outputs": [],
   "source": [
    "import numpy as np\n",
    "#시드생성과 난수 생성\n",
    "np.random.seed(0)"
   ]
  },
  {
   "cell_type": "code",
   "execution_count": null,
   "id": "c64d10ee",
   "metadata": {},
   "outputs": [],
   "source": [
    "np.random.rand(5)"
   ]
  },
  {
   "cell_type": "code",
   "execution_count": null,
   "id": "d7002b53",
   "metadata": {},
   "outputs": [],
   "source": [
    "np.random.rand(10)"
   ]
  },
  {
   "cell_type": "code",
   "execution_count": null,
   "id": "f6fc6b73",
   "metadata": {},
   "outputs": [],
   "source": [
    "np.random.seed(0)"
   ]
  },
  {
   "cell_type": "code",
   "execution_count": null,
   "id": "6d6a5ba6",
   "metadata": {},
   "outputs": [],
   "source": [
    "np.random.rand(5)"
   ]
  },
  {
   "cell_type": "code",
   "execution_count": null,
   "id": "f33b81f2",
   "metadata": {},
   "outputs": [],
   "source": [
    "#데이터 샘플링 choice명령\n",
    "np.random.choice(5, 5, replace=False)  # shuffle 명령과 같다.\n",
    "np.random.choice(5, 3, replace=False)  # 중복없이 3개만 선택\n",
    "np.random.choice(5, 10)  # 반복해서 10개 선택\n",
    "np.random.choice(5, 10, p=[0.1, 0, 0.3, 0.6, 0])  # 선택 확률을 다르게 해서 10개 선택"
   ]
  },
  {
   "cell_type": "code",
   "execution_count": null,
   "id": "f7d947a9",
   "metadata": {},
   "outputs": [],
   "source": [
    "#난수생성\n",
    "#rand 0부터 1사이의 균일분포\n",
    "np.random.rand(10)\n",
    "np.random.rand(3, 5)"
   ]
  },
  {
   "cell_type": "code",
   "execution_count": null,
   "id": "48aec350",
   "metadata": {},
   "outputs": [],
   "source": [
    "#randn 표준 정규분포\n",
    "np.random.randn(3, 5)"
   ]
  },
  {
   "cell_type": "code",
   "execution_count": null,
   "id": "b6775c74",
   "metadata": {},
   "outputs": [],
   "source": [
    "#randint low, high값 사이의 숫자를 출력\n",
    "np.random.randint(10, 20, size=10)   #일차원배열\n",
    "np.random.randint(10, 20, size=(3, 5)) #2차원배열\n",
    "np.random.randint(10, 20, size=(3, 5, 2)) #3차원배열"
   ]
  },
  {
   "cell_type": "code",
   "execution_count": null,
   "id": "a169f325",
   "metadata": {},
   "outputs": [],
   "source": [
    "#정수 데이터 카운팅\n",
    "#unique명령\n",
    "np.unique([11, 11, 2, 2, 34, 34])"
   ]
  },
  {
   "cell_type": "code",
   "execution_count": null,
   "id": "ec7f5be3",
   "metadata": {},
   "outputs": [],
   "source": [
    "a = np.array(['a', 'b', 'b', 'c', 'a'])\n",
    "index, count = np.unique(a, return_counts=True)"
   ]
  },
  {
   "cell_type": "code",
   "execution_count": null,
   "id": "13aee919",
   "metadata": {},
   "outputs": [],
   "source": [
    "count"
   ]
  },
  {
   "cell_type": "code",
   "execution_count": null,
   "id": "7610650d",
   "metadata": {},
   "outputs": [],
   "source": [
    "index"
   ]
  },
  {
   "cell_type": "code",
   "execution_count": null,
   "id": "8c422a4f",
   "metadata": {},
   "outputs": [],
   "source": [
    "count"
   ]
  },
  {
   "cell_type": "code",
   "execution_count": null,
   "id": "fac7b6b1",
   "metadata": {},
   "outputs": [],
   "source": [
    "#bincount\n",
    "np.bincount([1, 1, 2, 2, 2, 3], minlength=6)"
   ]
  }
 ],
 "metadata": {
  "kernelspec": {
   "display_name": "Python 3 (ipykernel)",
   "language": "python",
   "name": "python3"
  },
  "language_info": {
   "codemirror_mode": {
    "name": "ipython",
    "version": 3
   },
   "file_extension": ".py",
   "mimetype": "text/x-python",
   "name": "python",
   "nbconvert_exporter": "python",
   "pygments_lexer": "ipython3",
   "version": "3.11.3"
  }
 },
 "nbformat": 4,
 "nbformat_minor": 5
}
