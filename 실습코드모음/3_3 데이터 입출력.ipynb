{
 "cells": [
  {
   "cell_type": "markdown",
   "id": "5c4ac5be",
   "metadata": {},
   "source": [
    " CSV 파일 입력\n",
    " \n",
    " CSV 파일생성\n",
    " 주의, 매직명령어는 command창에서 실행되는 개념이기 때문에 명령어 이외에\n",
    " 주석등의 다른 것을 함께 기술하면 안된다."
   ]
  },
  {
   "cell_type": "code",
   "execution_count": null,
   "id": "3bbead6b",
   "metadata": {},
   "outputs": [],
   "source": [
    "# CSV 파일생성 매직명령 사용시 주의사항\n",
    "# 매직명령어는 command창에서 실행되는 개념이기 때문에 명령어 이외에 다른 것을 함께 기술하면 안된다."
   ]
  },
  {
   "cell_type": "code",
   "execution_count": null,
   "id": "d94510c8",
   "metadata": {},
   "outputs": [],
   "source": [
    "%%writefile sample1.csv\n",
    "c1,c2,c3\n",
    "1, 1.11, one\n",
    "2, 2.22, two\n",
    "3, 3.33, three"
   ]
  },
  {
   "cell_type": "code",
   "execution_count": null,
   "id": "44f162f2",
   "metadata": {},
   "outputs": [],
   "source": [
    "import pandas as pd\n",
    "import numpy as np\n",
    "#특정열을 행 인덱스로 지정\n",
    "pd.read_csv('sample1.csv', index_col='c1')"
   ]
  },
  {
   "cell_type": "code",
   "execution_count": null,
   "id": "80cd3ce4",
   "metadata": {},
   "outputs": [],
   "source": [
    "#CSV 파일 읽기 , 행인덱스는 자동으로 생성됨\n",
    "pd.read_csv('sample1.csv')"
   ]
  },
  {
   "cell_type": "code",
   "execution_count": null,
   "id": "245ee2a3",
   "metadata": {},
   "outputs": [],
   "source": [
    "%%writefile sample2.csv\n",
    "1, 1.11, one\n",
    "2, 2.22, two\n",
    "3, 3.33, three"
   ]
  },
  {
   "cell_type": "code",
   "execution_count": null,
   "id": "27b5cd7f",
   "metadata": {},
   "outputs": [],
   "source": [
    "#열 인덱스가 없는경우 추가\n",
    "pd.read_csv('sample2.csv', names=['c1', 'c2', 'c3'])"
   ]
  },
  {
   "cell_type": "code",
   "execution_count": null,
   "id": "ba803f37",
   "metadata": {},
   "outputs": [],
   "source": [
    "%%writefile sample3.txt\n",
    "c1        c2        c3        c4\n",
    "0.179181 -1.538472  1.34753  0.43381\n",
    "1.024209  0.087 -1.281997  0.4925\n",
    "0.417 -2.002308  0.255245 -1.10515"
   ]
  },
  {
   "cell_type": "code",
   "execution_count": null,
   "id": "6f1d6f16",
   "metadata": {},
   "outputs": [],
   "source": [
    "#길이가 정해지지 않은 공백구분자 sep는 default값 ,  delimiter\n",
    "df=pd.read_csv('sample3.txt', delimiter='\\s+')\n",
    "df"
   ]
  },
  {
   "cell_type": "code",
   "execution_count": null,
   "id": "9d88057d",
   "metadata": {},
   "outputs": [],
   "source": [
    "%%writefile sample4.txt\n",
    "파일 제목: sample4.txt\n",
    "데이터 포맷의 설명:\n",
    "c1,c2,c3\n",
    "1, 1.11, one\n",
    "2, 2.22, two\n",
    "3, 3.33, three"
   ]
  },
  {
   "cell_type": "code",
   "execution_count": null,
   "id": "c3725815",
   "metadata": {},
   "outputs": [],
   "source": [
    "#skiprows\n",
    "df=pd.read_csv('sample4.txt', skiprows=[0, 1])\n",
    "df"
   ]
  },
  {
   "cell_type": "code",
   "execution_count": null,
   "id": "d49320a2",
   "metadata": {
    "scrolled": true
   },
   "outputs": [],
   "source": [
    "#na_values\n",
    "df = pd.read_csv('sample4.txt', skiprows=[0, 1], na_values=1)\n",
    "df"
   ]
  },
  {
   "cell_type": "code",
   "execution_count": null,
   "id": "70645e83",
   "metadata": {},
   "outputs": [],
   "source": [
    "%%writefile sample5.csv\n",
    "c1,c2,c3\n",
    "1, 1.11, one\n",
    "\n",
    "2, 2.22, two\n",
    "3, 3.33, three"
   ]
  },
  {
   "cell_type": "code",
   "execution_count": null,
   "id": "67534865",
   "metadata": {
    "scrolled": true
   },
   "outputs": [],
   "source": [
    "#skip_blank_lines\n",
    "df1=pd.read_csv('sample5.csv', skip_blank_lines=True)\n",
    "df1"
   ]
  },
  {
   "cell_type": "code",
   "execution_count": null,
   "id": "4ba1c92f",
   "metadata": {},
   "outputs": [],
   "source": [
    "%%writefile sample6.csv\n",
    "c1,c2,c3\n",
    "1, 2, \"abc\"\n",
    "3, 4, \"def\"\n",
    "5, 6, \"ghi\""
   ]
  },
  {
   "cell_type": "code",
   "execution_count": null,
   "id": "feb7b4cb",
   "metadata": {
    "scrolled": true
   },
   "outputs": [],
   "source": [
    "#첫번째 c1~c3까지의 행을 skip하고 새롭게 c1~c3를 열인덱스로 지정하면, 열문자열,문자열 리스트로 인덱싱가능\n",
    "df=pd.read_csv('sample6.csv', skiprows=1, names=['c1', 'c2', 'c3'])\n",
    "df"
   ]
  },
  {
   "cell_type": "code",
   "execution_count": null,
   "id": "af25ccb3",
   "metadata": {},
   "outputs": [],
   "source": [
    "#데이타 프레임, \n",
    "# df['c3']= df['c3'].str.replace('\"',' ')   #시리즈에서 문자열 변환 =>#replace 앞에 반드시str을 추가해주어야 한다.\n",
    "df.iloc[:,2]=df.iloc[:,2].str.replace('\"',' ')  \n",
    "df"
   ]
  },
  {
   "cell_type": "markdown",
   "id": "31b901a2",
   "metadata": {},
   "source": [
    "CSV 파일 출력"
   ]
  },
  {
   "cell_type": "code",
   "execution_count": null,
   "id": "f5988e7a",
   "metadata": {
    "scrolled": true
   },
   "outputs": [],
   "source": [
    "df.to_csv('result1.csv')\n",
    "df"
   ]
  },
  {
   "cell_type": "code",
   "execution_count": null,
   "id": "cfbc52af",
   "metadata": {},
   "outputs": [],
   "source": [
    "#sep 구분자 변경\n",
    "df.to_csv('result1.csv', sep='|')"
   ]
  },
  {
   "cell_type": "code",
   "execution_count": null,
   "id": "0fe4c0b9",
   "metadata": {},
   "outputs": [],
   "source": [
    "#index, header출력 여부선택\n",
    "df.to_csv('result2.csv', index=False, header=True)"
   ]
  },
  {
   "cell_type": "markdown",
   "id": "94ad5b3a",
   "metadata": {},
   "source": [
    "인터넷 상의 CSV파일 입력\n",
    "KRX정보데이터시스템\n",
    "http://data.krx.co.kr/contents/MDC/MDI/mdiLoader/index.cmd?menuId=MDC0201020201"
   ]
  },
  {
   "cell_type": "code",
   "execution_count": null,
   "id": "389b38c6",
   "metadata": {
    "scrolled": true
   },
   "outputs": [],
   "source": [
    "df=pd.read_csv('sample_data.csv',encoding='cp949')  #euc-kr  한글인코딩\n",
    "df.head()"
   ]
  },
  {
   "cell_type": "code",
   "execution_count": null,
   "id": "ea18bbc9",
   "metadata": {},
   "outputs": [],
   "source": [
    "df.loc[df['종목코드']=='247540']"
   ]
  },
  {
   "cell_type": "code",
   "execution_count": null,
   "id": "ae5162e7",
   "metadata": {},
   "outputs": [],
   "source": [
    "#pandas datareader\n",
    "#pip install pandas-datareader\n",
    "#FRED데이터베이스 미국국가총생산 GDP\n",
    "import pandas_datareader as pdr\n",
    "import datetime\n",
    "dt_start = datetime.datetime(2010, 1, 1)\n",
    "dt_end = \"2023, 6, 30\"\n",
    "gdp = pdr.get_data_fred('GDP', dt_start, dt_end)\n",
    "gdp.tail()"
   ]
  },
  {
   "cell_type": "code",
   "execution_count": null,
   "id": "5e507858",
   "metadata": {},
   "outputs": [],
   "source": [
    "#국내주식데이타 실습\n",
    "#pip install -U finance-datareader\n",
    "import FinanceDataReader as fdr\n",
    "fdr.__version__"
   ]
  },
  {
   "cell_type": "code",
   "execution_count": null,
   "id": "acc24907",
   "metadata": {
    "scrolled": true
   },
   "outputs": [],
   "source": [
    "import FinanceDataReader as fdr\n",
    "\n",
    "# 한국거래소 상장종목 전체\n",
    "df_krx = fdr.StockListing('KRX')\n",
    "df_krx.head()"
   ]
  },
  {
   "cell_type": "code",
   "execution_count": null,
   "id": "0c12f388",
   "metadata": {
    "scrolled": false
   },
   "outputs": [],
   "source": [
    "# 에코프로비엠\n",
    "df = fdr.DataReader('247540', '2023')\n",
    "df['Change']=round(df['Change']*100,2)\n",
    "df.tail(10)"
   ]
  },
  {
   "cell_type": "code",
   "execution_count": null,
   "id": "a666b91f",
   "metadata": {},
   "outputs": [],
   "source": [
    "import matplotlib as mpl\n",
    "import matplotlib.pyplot as plt\n",
    "\n",
    "df = fdr.DataReader('247540', '2021')\n",
    "df['Close'].plot(c=\"b\",lw=1, marker=\"o\", ms=2, mec=\"r\", mew=2, mfc=\"r\") #종가\n",
    "plt.rc('font', family='NanumGothic')\n",
    "plt.title(\"에코프로비엠 일일 종가변화\")\n",
    "plt.xlabel(\"날짜\")\n",
    "plt.ylabel(\"가격\")\n"
   ]
  },
  {
   "cell_type": "code",
   "execution_count": null,
   "id": "74cf44f6",
   "metadata": {},
   "outputs": [],
   "source": [
    "# KS11 (KOSPI 지수), 2015년~현재\n",
    "df = fdr.DataReader('KS11', '2018')\n",
    "df['Close'].plot()"
   ]
  },
  {
   "cell_type": "code",
   "execution_count": null,
   "id": "0e8fb5bb",
   "metadata": {},
   "outputs": [],
   "source": []
  }
 ],
 "metadata": {
  "kernelspec": {
   "display_name": "Python 3 (ipykernel)",
   "language": "python",
   "name": "python3"
  },
  "language_info": {
   "codemirror_mode": {
    "name": "ipython",
    "version": 3
   },
   "file_extension": ".py",
   "mimetype": "text/x-python",
   "name": "python",
   "nbconvert_exporter": "python",
   "pygments_lexer": "ipython3",
   "version": "3.11.3"
  }
 },
 "nbformat": 4,
 "nbformat_minor": 5
}
