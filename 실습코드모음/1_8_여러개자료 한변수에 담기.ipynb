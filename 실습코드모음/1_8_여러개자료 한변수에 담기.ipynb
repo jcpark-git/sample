{
 "cells": [
  {
   "cell_type": "code",
   "execution_count": null,
   "id": "9e280fa5",
   "metadata": {},
   "outputs": [],
   "source": [
    "x = [88, 90, 100]\n",
    "x"
   ]
  },
  {
   "cell_type": "code",
   "execution_count": null,
   "id": "bd1afa64",
   "metadata": {},
   "outputs": [],
   "source": [
    "(x[0] + x[1]) / 2"
   ]
  },
  {
   "cell_type": "code",
   "execution_count": null,
   "id": "604ef9dc",
   "metadata": {},
   "outputs": [],
   "source": [
    "b = {\"math\": 88, \"english\": 90, \"history\": 100}\n",
    "b[\"math\"]"
   ]
  },
  {
   "cell_type": "code",
   "execution_count": null,
   "id": "784cc4d6",
   "metadata": {},
   "outputs": [],
   "source": [
    "d = [1, 3.14, \"pi\"]"
   ]
  },
  {
   "cell_type": "code",
   "execution_count": null,
   "id": "e745e6e6",
   "metadata": {},
   "outputs": [],
   "source": [
    "e = [[1, 10], [2, 20]]\n",
    "e[0][1]"
   ]
  },
  {
   "cell_type": "code",
   "execution_count": null,
   "id": "cc5bbcf5",
   "metadata": {},
   "outputs": [],
   "source": [
    "g = {\"a\": [1, 2, 3], \"b\": {0: 1, 1: 2}}\n",
    "g[\"a\"][2]  #3\n",
    "g[\"b\"][1]  #2"
   ]
  },
  {
   "cell_type": "code",
   "execution_count": null,
   "id": "f7e17396",
   "metadata": {},
   "outputs": [],
   "source": [
    "g = {\"a\": [1, 2, 3], \"b\": {0: 1, 1: 2}}\n",
    "g[\"a\"]  #[1, 2, 3] "
   ]
  },
  {
   "cell_type": "code",
   "execution_count": null,
   "id": "a5706c27",
   "metadata": {},
   "outputs": [],
   "source": []
  }
 ],
 "metadata": {
  "kernelspec": {
   "display_name": "Python 3 (ipykernel)",
   "language": "python",
   "name": "python3"
  },
  "language_info": {
   "codemirror_mode": {
    "name": "ipython",
    "version": 3
   },
   "file_extension": ".py",
   "mimetype": "text/x-python",
   "name": "python",
   "nbconvert_exporter": "python",
   "pygments_lexer": "ipython3",
   "version": "3.11.3"
  }
 },
 "nbformat": 4,
 "nbformat_minor": 5
}
