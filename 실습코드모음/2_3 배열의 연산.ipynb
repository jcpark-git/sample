{
 "cells": [
  {
   "cell_type": "code",
   "execution_count": null,
   "id": "483014e9",
   "metadata": {},
   "outputs": [],
   "source": [
    "import numpy as np"
   ]
  },
  {
   "cell_type": "code",
   "execution_count": null,
   "id": "d6b43579",
   "metadata": {},
   "outputs": [],
   "source": [
    "%%time\n",
    "z = np.zeros_like(x)\n",
    "for i in range(10000):\n",
    "    z[i] = x[i] + y[i]\n",
    "z[:10]"
   ]
  },
  {
   "cell_type": "code",
   "execution_count": null,
   "id": "793a7673",
   "metadata": {},
   "outputs": [],
   "source": [
    "%%time\n",
    "z = x + y\n",
    "z[:10]"
   ]
  },
  {
   "cell_type": "code",
   "execution_count": null,
   "id": "7a7a6f52",
   "metadata": {},
   "outputs": [],
   "source": [
    "#논리연산의 벡터화연산\n",
    "a = np.array([1, 2, 3, 4])\n",
    "b = np.array([4, 2, 2, 4])"
   ]
  },
  {
   "cell_type": "code",
   "execution_count": null,
   "id": "e30b8a32",
   "metadata": {},
   "outputs": [],
   "source": [
    "a == b"
   ]
  },
  {
   "cell_type": "code",
   "execution_count": null,
   "id": "c978f24f",
   "metadata": {},
   "outputs": [],
   "source": [
    "np.all(a == b)"
   ]
  },
  {
   "cell_type": "code",
   "execution_count": null,
   "id": "08b2419d",
   "metadata": {},
   "outputs": [],
   "source": [
    "#차원축소연산\n",
    "x = np.array([[1, 2, 3, 4],[5, 6, 7, 8]])\n",
    "x"
   ]
  },
  {
   "cell_type": "code",
   "execution_count": null,
   "id": "1d3efbc6",
   "metadata": {},
   "outputs": [],
   "source": [
    "#  x.sum() \n",
    "# x.sum(axis=0) #열합계 \n",
    "x.sum(axis=1) #행합계\n",
    "# x.argmin()  # 최솟값의 위치\n",
    "# x.argmax()  # 최댓값의 위치"
   ]
  },
  {
   "cell_type": "code",
   "execution_count": null,
   "id": "9cabe0f9",
   "metadata": {},
   "outputs": [],
   "source": [
    "x.mean(axis=0)\n",
    "np.median(x, axis=1)"
   ]
  },
  {
   "cell_type": "code",
   "execution_count": null,
   "id": "5f8adb2b",
   "metadata": {},
   "outputs": [],
   "source": [
    "np.all([True, False, False])"
   ]
  },
  {
   "cell_type": "code",
   "execution_count": null,
   "id": "c0499405",
   "metadata": {},
   "outputs": [],
   "source": [
    "np.any([True, True, True])"
   ]
  },
  {
   "cell_type": "code",
   "execution_count": null,
   "id": "913d8527",
   "metadata": {},
   "outputs": [],
   "source": [
    "a = np.array([1, 2, 3, 2])\n",
    "b = np.array([2, 2, 3, 2])\n",
    "c = np.array([6, 4, 4, 5])\n",
    "((a <= b) & (b <= c)).all()"
   ]
  },
  {
   "cell_type": "code",
   "execution_count": null,
   "id": "55e52cee",
   "metadata": {},
   "outputs": [],
   "source": [
    "#정렬4\n",
    "a = np.array([[4,  3,  5,  7],\n",
    "              [1, 12, 11,  9],\n",
    "              [2, 15,  1, 14]])"
   ]
  },
  {
   "cell_type": "code",
   "execution_count": null,
   "id": "653f1f6d",
   "metadata": {},
   "outputs": [],
   "source": [
    "#axis=1 행기준 정렬, default 값\n",
    "np.sort(a)  # axis=-1 또는 axis=1 과 동일"
   ]
  },
  {
   "cell_type": "code",
   "execution_count": null,
   "id": "f7ce5c0f",
   "metadata": {
    "scrolled": true
   },
   "outputs": [],
   "source": [
    "#axis=0 열기준 정렬\n",
    "np.sort(a, axis=0)"
   ]
  },
  {
   "cell_type": "code",
   "execution_count": null,
   "id": "b41de242",
   "metadata": {},
   "outputs": [],
   "source": [
    "#정렬순서 인덱스값\n",
    "a = np.array([42, 38, 12, 25])\n",
    "\n",
    "j = np.argsort(a)\n",
    "j"
   ]
  },
  {
   "cell_type": "code",
   "execution_count": null,
   "id": "59165ed3",
   "metadata": {},
   "outputs": [],
   "source": [
    "#argsort의 활용\n",
    "name_array = np.array(['동혁', '유리', '진우', '태연', '동준']) # 이름\n",
    "score_array = np.array([88, 100, 92, 95, 73]) # 점수\n",
    "\n",
    "score_indices = np.argsort(score_array)[::-1]    # 정렬 인덱스 저장 ([::-1]를 붙일 경우 내림차순)\n",
    "print(name_array[score_indices]) # 정렬된 대로 name을 출력\n"
   ]
  }
 ],
 "metadata": {
  "kernelspec": {
   "display_name": "Python 3 (ipykernel)",
   "language": "python",
   "name": "python3"
  },
  "language_info": {
   "codemirror_mode": {
    "name": "ipython",
    "version": 3
   },
   "file_extension": ".py",
   "mimetype": "text/x-python",
   "name": "python",
   "nbconvert_exporter": "python",
   "pygments_lexer": "ipython3",
   "version": "3.11.3"
  }
 },
 "nbformat": 4,
 "nbformat_minor": 5
}
