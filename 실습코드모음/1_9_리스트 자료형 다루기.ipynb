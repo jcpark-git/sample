{
 "cells": [
  {
   "cell_type": "code",
   "execution_count": null,
   "id": "3d0b0c5a",
   "metadata": {},
   "outputs": [],
   "source": [
    "g = {\"a\": [1, 2, 3], \"b\": {0: 1, 1: 2}}\n",
    "g[\"a\"]\n",
    "g[\"a\"][2]"
   ]
  },
  {
   "cell_type": "code",
   "execution_count": null,
   "id": "3370fdf1",
   "metadata": {},
   "outputs": [],
   "source": [
    "#리스트생성\n",
    "b = list(range(10))\n",
    "b"
   ]
  },
  {
   "cell_type": "code",
   "execution_count": null,
   "id": "2196b8f6",
   "metadata": {},
   "outputs": [],
   "source": [
    "c = list(range(1, 10))\n",
    "c"
   ]
  },
  {
   "cell_type": "code",
   "execution_count": null,
   "id": "e5edc801",
   "metadata": {},
   "outputs": [],
   "source": [
    "d = list(range(1, 10, 3))\n",
    "d"
   ]
  },
  {
   "cell_type": "code",
   "execution_count": null,
   "id": "b314ebf2",
   "metadata": {},
   "outputs": [],
   "source": [
    "#리스트 주요메소드\n",
    "#값변경\n",
    "d[0] = 100\n",
    "d"
   ]
  },
  {
   "cell_type": "code",
   "execution_count": null,
   "id": "55dcebef",
   "metadata": {},
   "outputs": [],
   "source": [
    "#길이\n",
    "a = [1, 2, 3]\n",
    "len(a)"
   ]
  },
  {
   "cell_type": "code",
   "execution_count": null,
   "id": "31406729",
   "metadata": {},
   "outputs": [],
   "source": [
    "#append, insert\n",
    "e = list(range(4))\n",
    "e"
   ]
  },
  {
   "cell_type": "code",
   "execution_count": null,
   "id": "c40d98e3",
   "metadata": {},
   "outputs": [],
   "source": [
    "e.append(4)\n",
    "e"
   ]
  },
  {
   "cell_type": "code",
   "execution_count": null,
   "id": "b2610440",
   "metadata": {},
   "outputs": [],
   "source": [
    "e.append(10)\n",
    "e"
   ]
  },
  {
   "cell_type": "code",
   "execution_count": null,
   "id": "064a52f5",
   "metadata": {},
   "outputs": [],
   "source": [
    "e.insert(1, [7,8]) \n",
    "e"
   ]
  },
  {
   "cell_type": "code",
   "execution_count": null,
   "id": "b888c83b",
   "metadata": {},
   "outputs": [],
   "source": [
    "#자료 삭제 del remove\n",
    "f = list(range(10))\n",
    "f"
   ]
  },
  {
   "cell_type": "code",
   "execution_count": null,
   "id": "a5b96c69",
   "metadata": {},
   "outputs": [],
   "source": [
    "del f[0]\n",
    "f"
   ]
  },
  {
   "cell_type": "code",
   "execution_count": null,
   "id": "a747762f",
   "metadata": {},
   "outputs": [],
   "source": [
    "del f[1:9:3] #1번째요소 2를 삭제, 인덱스를 3 증가한 요소 삭제 \n",
    "f"
   ]
  },
  {
   "cell_type": "code",
   "execution_count": null,
   "id": "0e56d898",
   "metadata": {},
   "outputs": [],
   "source": [
    "s = [1, 3, 5, 2, 4, 5, 6]\n",
    "\n",
    "del s[0]    # 0번째 요소 1을 제거\n",
    "s.remove(5) # 왼쪽에서 부터 오른쪽으로, 첫번째 나오는 5를 제거\n",
    "print(s)    # [3, 2, 4, 5, 6]"
   ]
  },
  {
   "cell_type": "code",
   "execution_count": null,
   "id": "476b6f76",
   "metadata": {},
   "outputs": [],
   "source": [
    "#pop\n",
    "n = s.pop()\n",
    "print(n)    # 가장 마지막 요소를 리턴함과 동시에 리스트에서 삭제\n",
    "print(s)    # [3, 2, 4, 5]"
   ]
  },
  {
   "cell_type": "code",
   "execution_count": null,
   "id": "09a44cd8",
   "metadata": {},
   "outputs": [],
   "source": [
    "#sort sorted\n",
    "s = [1, 3, 5, 6, 7, 9, 2, 4, 6, 8, 10]\n",
    "# s의 값이 변경\n",
    "# s.sort()\n",
    "# print(s) # [1, 2, 3, 4, 5, 6, 6, 7, 8, 9, 10]\n",
    "\n",
    "s1 = sorted(s) # s는 변하지 않고 정렬된 새로운 리스트 반환\n",
    "print(s)  # [1, 3, 5, 6, 7, 9, 2, 4, 6, 8, 10]\n",
    "print(s1) # [1, 2, 3, 4, 5, 6, 6, 7, 8, 9, 10]"
   ]
  },
  {
   "cell_type": "code",
   "execution_count": null,
   "id": "7ecf089b",
   "metadata": {},
   "outputs": [],
   "source": [
    "#슬라이싱\n",
    "g = list(range(20))\n",
    "g"
   ]
  },
  {
   "cell_type": "code",
   "execution_count": null,
   "id": "ad243458",
   "metadata": {},
   "outputs": [],
   "source": [
    "g[0:5] #g[:5]"
   ]
  },
  {
   "cell_type": "code",
   "execution_count": null,
   "id": "51bf7661",
   "metadata": {},
   "outputs": [],
   "source": [
    "g[5:]"
   ]
  },
  {
   "cell_type": "code",
   "execution_count": null,
   "id": "5e38cc26",
   "metadata": {},
   "outputs": [],
   "source": [
    "g[10:15]"
   ]
  },
  {
   "cell_type": "code",
   "execution_count": null,
   "id": "dd586e84",
   "metadata": {},
   "outputs": [],
   "source": [
    "g[:]"
   ]
  },
  {
   "cell_type": "code",
   "execution_count": null,
   "id": "4b63d9ad",
   "metadata": {},
   "outputs": [],
   "source": [
    "#역인덱싱\n",
    "g[-1]"
   ]
  },
  {
   "cell_type": "code",
   "execution_count": null,
   "id": "161d9ffe",
   "metadata": {},
   "outputs": [],
   "source": [
    "g[-5:-2]"
   ]
  },
  {
   "cell_type": "code",
   "execution_count": null,
   "id": "03a0900d",
   "metadata": {},
   "outputs": [],
   "source": [
    "g[-3:]"
   ]
  },
  {
   "cell_type": "code",
   "execution_count": null,
   "id": "7c1e4833",
   "metadata": {},
   "outputs": [],
   "source": [
    "g[-3:-1]"
   ]
  }
 ],
 "metadata": {
  "kernelspec": {
   "display_name": "Python 3 (ipykernel)",
   "language": "python",
   "name": "python3"
  },
  "language_info": {
   "codemirror_mode": {
    "name": "ipython",
    "version": 3
   },
   "file_extension": ".py",
   "mimetype": "text/x-python",
   "name": "python",
   "nbconvert_exporter": "python",
   "pygments_lexer": "ipython3",
   "version": "3.11.3"
  }
 },
 "nbformat": 4,
 "nbformat_minor": 5
}
