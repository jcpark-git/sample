{
 "cells": [
  {
   "cell_type": "code",
   "execution_count": null,
   "id": "d04b3609",
   "metadata": {
    "scrolled": true
   },
   "outputs": [],
   "source": [
    "print(\"내 이름은 \" + \"홍길동\" + \"입니다.\")\n",
    "print(\"*\"*10)"
   ]
  },
  {
   "cell_type": "code",
   "execution_count": null,
   "id": "77f00f7d",
   "metadata": {
    "scrolled": true
   },
   "outputs": [],
   "source": [
    "#숫자를 문자열변수로 출력 str\n",
    "n=10\n",
    "print(\"숫자를 문자로\"+ str(n))"
   ]
  },
  {
   "cell_type": "code",
   "execution_count": null,
   "id": "d3fe431f",
   "metadata": {},
   "outputs": [],
   "source": [
    "n = 10\n",
    "print(\"별표를 \" + str(n) + \"번 출력합니다.\")\n",
    "print(\"*\" * n)"
   ]
  },
  {
   "cell_type": "code",
   "execution_count": null,
   "id": "8c0c5d18",
   "metadata": {},
   "outputs": [],
   "source": [
    "print(\"한 줄 쓰고\\n그 다음 줄을 쓴다.\")"
   ]
  },
  {
   "cell_type": "code",
   "execution_count": null,
   "id": "7dfd0f24",
   "metadata": {},
   "outputs": [],
   "source": [
    "print(\"한 줄 쓰고 \", end=\"\")\n",
    "print(\"이어서 쓴다.\")"
   ]
  },
  {
   "cell_type": "code",
   "execution_count": null,
   "id": "d4c9c31b",
   "metadata": {},
   "outputs": [],
   "source": [
    "#문자열변수의 출력\n",
    "name = \"홍길동\"\n",
    "print(\"내 이름은 \" + name + \"입니다.\")"
   ]
  },
  {
   "cell_type": "code",
   "execution_count": null,
   "id": "def1fd2d",
   "metadata": {},
   "outputs": [],
   "source": [
    "mark = \"$\"\n",
    "n = 20\n",
    "print(mark + \" 기호를 \" + str(n) + \"번 출력합니다.\")\n",
    "print(mark * n)"
   ]
  },
  {
   "cell_type": "code",
   "execution_count": null,
   "id": "6478cb11",
   "metadata": {},
   "outputs": [],
   "source": [
    "multi_line_string = \"\"\"\n",
    "파이썬(영어: Python)은 1991년 프로그래머인 \n",
    "귀도 반 로섬(Guido van Rossum)이 발표한 고급 프로그래밍 언어로,\n",
    "플랫폼 독립적이며 인터프리터식, 객체지향적, 동적 타이핑(dynamically typed) \n",
    "대화형 언어이다. 파이썬이라는 이름은 귀도가 좋아하는 코미디 〈Monty Python's Flying \n",
    "Circus〉에서 따온 것이다.\"\"\"\n",
    "\n",
    "print(multi_line_string)"
   ]
  },
  {
   "cell_type": "code",
   "execution_count": null,
   "id": "4c846f61",
   "metadata": {},
   "outputs": [],
   "source": [
    "#문자열 메소드\n",
    "#문자열치완\n",
    "s1 = 'python is simple'\n",
    "s2 = s1.replace('simple', 'complicated')\n",
    "s2"
   ]
  },
  {
   "cell_type": "code",
   "execution_count": null,
   "id": "1ea70fe2",
   "metadata": {},
   "outputs": [],
   "source": [
    "\n",
    "\"2020.10.23\".replace(\".\", \"-\")"
   ]
  },
  {
   "cell_type": "code",
   "execution_count": null,
   "id": "becf9752",
   "metadata": {},
   "outputs": [],
   "source": [
    "#upper,lower\n",
    "s = 'HEllo' # s는 변화 없음\n",
    "s1 = s.upper() # HELLO\n",
    "s1\n",
    "s2 = s.lower() # hello\n",
    "s2"
   ]
  },
  {
   "cell_type": "code",
   "execution_count": null,
   "id": "10161615",
   "metadata": {
    "scrolled": false
   },
   "outputs": [],
   "source": [
    "#count fine index\n",
    "s = 'hello'\n",
    "\n",
    "# print(s.count('l'))\t# 2\n",
    "# print(s.find('l'))\t# 2\n",
    "# print(s.index('ok'))\t# 2\n",
    "\n",
    "print(s.find('a'))\t# -1\n",
    "# print(s.index('a'))\t# ValueError"
   ]
  },
  {
   "cell_type": "code",
   "execution_count": null,
   "id": "8d1a247d",
   "metadata": {},
   "outputs": [],
   "source": [
    "#split\n",
    "s1 = 'To be or not to be, that is the question'\n",
    "s2 = s1.split()\n",
    "print(s2) # ['To', 'be', 'or', 'not', 'to', 'be,', 'that', 'is', 'the', 'question']"
   ]
  },
  {
   "cell_type": "code",
   "execution_count": null,
   "id": "e10c00c0",
   "metadata": {},
   "outputs": [],
   "source": [
    "#문자열 슬라이싱\n",
    "s = 'ABCDEFGHIJK'\n",
    "\n",
    "# sc = slice(1, 4) # 1번 인덱스 부터(포함), 4번 인덱스 전까지(미포함)의 범위\n",
    "# s1 = s[sc]\n",
    "# print(s1)\n",
    "\n",
    "# print(s[slice(1, 7, 2)])    # 1번 인덱스 부터(포함), 7번 인덱스 전까지(미포함)의 범위, 2씩 인덱스 증가\n",
    "#                             # BDF\n",
    "# print(s[slice(-1, -8, -2)]) # -1번 인덱스 부터(포함), -8번 인덱스 전까지(미포함)의 범위, -2씩 인덱스 감소\n",
    "#                             # KIGE\n",
    "# print(s[slice(5)])          # 0번 인덱스 부터 5개\n",
    "#                             # ABCDE\n",
    "# print(s[slice(len(s))])     # 0번 인덱스 부터 문자열 s의 길이만큼. 전체 문자열\n",
    "#                             # ABCDEFGHIJK\n",
    "                            \n",
    "# print(s[1:7])               # slice(1, 7)\n",
    "#                             # BCDEFG\n",
    "# print(s[1:7:2])             # slice(1, 7, 2)\n",
    "#                             # BDF\n",
    "# print(s[-1:-8:-2])          # slice(-1, -8, -2)  뒤에서 0번재 분자부터 뒤에서 8번재 문자까지 2개씩 이동하면서\n",
    "#                             # KIGE\n",
    "# print(s[5::])               # FGHIJK    뒤에서 0번재 분자부터 뒤에서 8번재 문자까지 2개씩 이동하면서\n",
    "# print(s[::7])               # AH   0번째 문자부터 찍고 7개 이동해서 찍고 끝까지\n",
    "# print(s[::])                # ABCDEFGHIJK\n",
    "print(s[-1::-1])            # KJIHGFEDCBA  뒤에서 0번재 분자부터 뒤에서 8번재 문자까지 2개씩 이동하면서"
   ]
  },
  {
   "cell_type": "code",
   "execution_count": null,
   "id": "e678175f",
   "metadata": {},
   "outputs": [],
   "source": []
  }
 ],
 "metadata": {
  "kernelspec": {
   "display_name": "Python 3 (ipykernel)",
   "language": "python",
   "name": "python3"
  },
  "language_info": {
   "codemirror_mode": {
    "name": "ipython",
    "version": 3
   },
   "file_extension": ".py",
   "mimetype": "text/x-python",
   "name": "python",
   "nbconvert_exporter": "python",
   "pygments_lexer": "ipython3",
   "version": "3.11.3"
  }
 },
 "nbformat": 4,
 "nbformat_minor": 5
}
