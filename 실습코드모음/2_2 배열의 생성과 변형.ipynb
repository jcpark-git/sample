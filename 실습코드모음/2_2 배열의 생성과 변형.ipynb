{
 "cells": [
  {
   "cell_type": "code",
   "execution_count": null,
   "id": "b1217790",
   "metadata": {},
   "outputs": [],
   "source": [
    "#NumPy 자료형\n",
    "import numpy as np\n",
    "x = np.array([1, 2, 3])\n",
    "x.dtype"
   ]
  },
  {
   "cell_type": "code",
   "execution_count": null,
   "id": "fd7536e2",
   "metadata": {},
   "outputs": [],
   "source": [
    "x = np.array([1, 2, 3.0])\n",
    "x.dtype\n",
    "x"
   ]
  },
  {
   "cell_type": "code",
   "execution_count": null,
   "id": "9c1b25f7",
   "metadata": {},
   "outputs": [],
   "source": [
    "x = np.array([1, 2, 3], dtype='i')  #i8, f f8\n",
    "x.dtype"
   ]
  },
  {
   "cell_type": "code",
   "execution_count": null,
   "id": "af47484a",
   "metadata": {},
   "outputs": [],
   "source": [
    "#배열 생성\n",
    "#0으로 초기화된 배열생성\n",
    "a = np.zeros(5)\n",
    "a"
   ]
  },
  {
   "cell_type": "code",
   "execution_count": null,
   "id": "b060efc8",
   "metadata": {},
   "outputs": [],
   "source": [
    "b = np.zeros((2, 3), dtype=\"i\")\n",
    "b"
   ]
  },
  {
   "cell_type": "code",
   "execution_count": null,
   "id": "083dd2e8",
   "metadata": {},
   "outputs": [],
   "source": [
    "#문자열 배열\n",
    "d = np.zeros(5, dtype=\"U4\")\n",
    "d"
   ]
  },
  {
   "cell_type": "code",
   "execution_count": null,
   "id": "502c1aab",
   "metadata": {},
   "outputs": [],
   "source": [
    "#1로 초기화된 배열생성\n",
    "e = np.ones((2, 3, 4), dtype=\"i8\")\n",
    "e"
   ]
  },
  {
   "cell_type": "code",
   "execution_count": null,
   "id": "4512681b",
   "metadata": {},
   "outputs": [],
   "source": [
    "#크기를 명시하지 않고 다른 배열과 같은 배열생성\n",
    "f = np.ones_like(b, dtype=\"f\")\n",
    "f"
   ]
  },
  {
   "cell_type": "code",
   "execution_count": null,
   "id": "50a820d3",
   "metadata": {},
   "outputs": [],
   "source": [
    "#empty 초기화 하지 않음\n",
    "g = np.empty((4, 3))\n",
    "g"
   ]
  },
  {
   "cell_type": "code",
   "execution_count": null,
   "id": "47778ea8",
   "metadata": {},
   "outputs": [],
   "source": [
    "#arang list의 range와 동일\n",
    "np.arange(10)  # 0 .. n-1\n",
    "np.arange(3, 21, 2)  # 시작, 끝(포함하지 않음), 단계"
   ]
  },
  {
   "cell_type": "code",
   "execution_count": null,
   "id": "c5e9964a",
   "metadata": {},
   "outputs": [],
   "source": [
    "#전치연산\n",
    "A = np.array([[1, 2, 3], [4, 5, 6]])\n",
    "A.T"
   ]
  },
  {
   "cell_type": "code",
   "execution_count": null,
   "id": "68cb1e31",
   "metadata": {},
   "outputs": [],
   "source": [
    "#배열의 크기변형\n",
    "#reshape  1차원배열=>다차원배열로\n",
    "a = np.arange(12)\n",
    "a"
   ]
  },
  {
   "cell_type": "code",
   "execution_count": null,
   "id": "b17362ef",
   "metadata": {},
   "outputs": [],
   "source": [
    "b = a.reshape(3, 4)\n",
    "b"
   ]
  },
  {
   "cell_type": "code",
   "execution_count": null,
   "id": "6ca55b88",
   "metadata": {},
   "outputs": [],
   "source": [
    "a.reshape(3, -1)"
   ]
  },
  {
   "cell_type": "code",
   "execution_count": null,
   "id": "44a6013d",
   "metadata": {
    "scrolled": true
   },
   "outputs": [],
   "source": [
    "a.reshape(2, -1, 2)"
   ]
  },
  {
   "cell_type": "code",
   "execution_count": null,
   "id": "d0595b79",
   "metadata": {},
   "outputs": [],
   "source": [
    "a.flatten()  #다차원배열=>1차원배열"
   ]
  },
  {
   "cell_type": "code",
   "execution_count": null,
   "id": "bb60a348",
   "metadata": {},
   "outputs": [],
   "source": [
    "#배열의 연결\n",
    "#hstack\n",
    "a1 = np.ones((2, 3))\n",
    "a1"
   ]
  },
  {
   "cell_type": "code",
   "execution_count": null,
   "id": "a7dc6d7a",
   "metadata": {},
   "outputs": [],
   "source": [
    "a2 = np.zeros((2, 2))\n",
    "a2"
   ]
  },
  {
   "cell_type": "code",
   "execution_count": null,
   "id": "881bc00d",
   "metadata": {},
   "outputs": [],
   "source": [
    "np.hstack([a1, a2])"
   ]
  },
  {
   "cell_type": "code",
   "execution_count": null,
   "id": "a384e262",
   "metadata": {},
   "outputs": [],
   "source": [
    "#vstack\n",
    "b1 = np.ones((2, 3))\n",
    "b1"
   ]
  },
  {
   "cell_type": "code",
   "execution_count": null,
   "id": "7ca2662a",
   "metadata": {},
   "outputs": [],
   "source": [
    "b2 = np.zeros((3, 3))\n",
    "b2"
   ]
  },
  {
   "cell_type": "code",
   "execution_count": null,
   "id": "6dd1f283",
   "metadata": {},
   "outputs": [],
   "source": [
    "np.vstack([b1, b2])"
   ]
  },
  {
   "cell_type": "code",
   "execution_count": null,
   "id": "de4352aa",
   "metadata": {},
   "outputs": [],
   "source": [
    "#dstack\n",
    "#3X4 2개=> 3X4X2 1개로 변형됨\n",
    "c1 = np.ones((3, 4))\n",
    "c1"
   ]
  },
  {
   "cell_type": "code",
   "execution_count": null,
   "id": "990caecf",
   "metadata": {},
   "outputs": [],
   "source": [
    "c2 = np.zeros((3, 4))\n",
    "c2"
   ]
  },
  {
   "cell_type": "code",
   "execution_count": null,
   "id": "638dc1d9",
   "metadata": {
    "scrolled": false
   },
   "outputs": [],
   "source": [
    "np.dstack([c1, c2])"
   ]
  },
  {
   "cell_type": "code",
   "execution_count": null,
   "id": "e1c76c2c",
   "metadata": {},
   "outputs": [],
   "source": [
    "(np.dstack([c1, c2])).shape"
   ]
  },
  {
   "cell_type": "code",
   "execution_count": null,
   "id": "4a71f3a3",
   "metadata": {
    "scrolled": true
   },
   "outputs": [],
   "source": [
    "#stack\n",
    "c = np.stack([c1, c2])\n",
    "c.shape\n",
    "c"
   ]
  },
  {
   "cell_type": "code",
   "execution_count": null,
   "id": "2dc4eba7",
   "metadata": {},
   "outputs": [],
   "source": [
    "#title\n",
    "a = np.array([[0, 1, 2], [3, 4, 5]])\n",
    "np.tile(a, 2)"
   ]
  },
  {
   "cell_type": "code",
   "execution_count": null,
   "id": "1514cff5",
   "metadata": {},
   "outputs": [],
   "source": [
    "np.tile(a, (4, 2))"
   ]
  },
  {
   "cell_type": "code",
   "execution_count": null,
   "id": "d7fb119b",
   "metadata": {},
   "outputs": [],
   "source": [
    "#연습문제\n",
    "a0 = np.zeros(3)\n",
    "a0"
   ]
  },
  {
   "cell_type": "code",
   "execution_count": null,
   "id": "5129cf28",
   "metadata": {},
   "outputs": [],
   "source": [
    "a1 = np.ones(2)\n",
    "a1"
   ]
  },
  {
   "cell_type": "code",
   "execution_count": null,
   "id": "bcbcb092",
   "metadata": {},
   "outputs": [],
   "source": [
    "a3 =np.hstack([a0,a1])\n",
    "a3"
   ]
  },
  {
   "cell_type": "code",
   "execution_count": null,
   "id": "dc82ef44",
   "metadata": {},
   "outputs": [],
   "source": [
    "a = np.tile(a3, (3,1))\n",
    "a"
   ]
  },
  {
   "cell_type": "code",
   "execution_count": null,
   "id": "f804ca44",
   "metadata": {},
   "outputs": [],
   "source": [
    "b = np.arange(10, 160, 10).reshape(3,-1)\n",
    "b"
   ]
  },
  {
   "cell_type": "code",
   "execution_count": null,
   "id": "2ec28cc1",
   "metadata": {},
   "outputs": [],
   "source": [
    "np.vstack([a,b])"
   ]
  },
  {
   "cell_type": "code",
   "execution_count": null,
   "id": "1780174c",
   "metadata": {},
   "outputs": [],
   "source": [
    "c = np.tile(np.vstack([a,b]), (2,1))\n",
    "c"
   ]
  }
 ],
 "metadata": {
  "kernelspec": {
   "display_name": "Python 3 (ipykernel)",
   "language": "python",
   "name": "python3"
  },
  "language_info": {
   "codemirror_mode": {
    "name": "ipython",
    "version": 3
   },
   "file_extension": ".py",
   "mimetype": "text/x-python",
   "name": "python",
   "nbconvert_exporter": "python",
   "pygments_lexer": "ipython3",
   "version": "3.11.3"
  }
 },
 "nbformat": 4,
 "nbformat_minor": 5
}
