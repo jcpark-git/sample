{
 "cells": [
  {
   "cell_type": "code",
   "execution_count": null,
   "id": "ae9eb634",
   "metadata": {},
   "outputs": [],
   "source": [
    "import numpy as np\n",
    "#1차원 배열만들기\n",
    "ar = np.array([0, 1, 2, 3, 4, 5, 6, 7, 8, 9])\n",
    "ar"
   ]
  },
  {
   "cell_type": "code",
   "execution_count": null,
   "id": "f8b27381",
   "metadata": {},
   "outputs": [],
   "source": [
    "ar=np.arange(10)\n",
    "ar"
   ]
  },
  {
   "cell_type": "code",
   "execution_count": null,
   "id": "68b5f87e",
   "metadata": {
    "scrolled": true
   },
   "outputs": [],
   "source": [
    "type(ar)"
   ]
  },
  {
   "cell_type": "code",
   "execution_count": null,
   "id": "a7db35da",
   "metadata": {},
   "outputs": [],
   "source": [
    "# 1차원 리스트를 reshape해서 2차원 배열을 생성\n",
    "arr = np.array([5] * 15).reshape((3, 5))\n",
    "print(arr)\n",
    "# [[5 5 5 5 5]\n",
    "#  [5 5 5 5 5]\n",
    "#  [5 5 5 5 5]]"
   ]
  },
  {
   "cell_type": "code",
   "execution_count": null,
   "id": "773e026f",
   "metadata": {},
   "outputs": [],
   "source": [
    "# 1차원 range를 reshape해서 2차원 배열 생성\n",
    "arr = np.arange(25).reshape((5, 5))\n",
    "print(arr)\n",
    "# [[ 0  1  2  3  4]\n",
    "#  [ 5  6  7  8  9]\n",
    "#  [10 11 12 13 14]\n",
    "#  [15 16 17 18 19]\n",
    "#  [20 21 22 23 24]]"
   ]
  },
  {
   "cell_type": "code",
   "execution_count": null,
   "id": "dc2012eb",
   "metadata": {},
   "outputs": [],
   "source": [
    "row, column = 2, 3\n",
    "arr_2d = np.array([[None] * column for i in range(row)])\n",
    "arr_2d\n",
    "# [[None, None, None], [None, None, None]]"
   ]
  },
  {
   "cell_type": "code",
   "execution_count": null,
   "id": "4a034ef5",
   "metadata": {},
   "outputs": [],
   "source": [
    "#벡터화 연산\n",
    "#각 요소를 2배하는 경우 기존의 for문사용\n",
    "data = [0, 1, 2, 3, 4, 5, 6, 7, 8, 9]\n",
    "answer = []\n",
    "for di in data:\n",
    "    answer.append(2 * di)  #각 \n",
    "    \n",
    "answer"
   ]
  },
  {
   "cell_type": "code",
   "execution_count": null,
   "id": "68f549fb",
   "metadata": {},
   "outputs": [],
   "source": [
    "#벡터화 연산 사용\n",
    "x = np.array(data)\n",
    "2 * x"
   ]
  },
  {
   "cell_type": "code",
   "execution_count": null,
   "id": "c7f21b34",
   "metadata": {},
   "outputs": [],
   "source": [
    "a = np.array([1, 2, 3])\n",
    "b = np.array([10, 20, 30])\n",
    "a  - b"
   ]
  },
  {
   "cell_type": "code",
   "execution_count": null,
   "id": "716fee2c",
   "metadata": {},
   "outputs": [],
   "source": [
    "(a == 2) & (b > 10)"
   ]
  },
  {
   "cell_type": "code",
   "execution_count": null,
   "id": "6150d8d7",
   "metadata": {},
   "outputs": [],
   "source": [
    "#2차원 배열만들기\n",
    "c = np.array([[0, 1, 2], [3, 4, 5]])  # 2 x 3 array\n",
    "# c =np.arange(6).reshape((2, 3))\n",
    "c"
   ]
  },
  {
   "cell_type": "code",
   "execution_count": null,
   "id": "789faf93",
   "metadata": {},
   "outputs": [],
   "source": [
    "# 행의 갯수\n",
    "len(c)"
   ]
  },
  {
   "cell_type": "code",
   "execution_count": null,
   "id": "b6583514",
   "metadata": {},
   "outputs": [],
   "source": [
    "# 열의 갯수\n",
    "len(c[0])"
   ]
  },
  {
   "cell_type": "code",
   "execution_count": null,
   "id": "f2966d55",
   "metadata": {},
   "outputs": [],
   "source": [
    "#3차원 배열\n",
    "d = np.array([[[1, 2, 3, 4],\n",
    "               [5, 6, 7, 8],\n",
    "               [9, 10, 11, 12]],\n",
    "              [[11, 12, 13, 14],\n",
    "               [15, 16, 17, 18],\n",
    "               [19, 20, 21, 22]]])   # 2 x 3 x 4 array"
   ]
  },
  {
   "cell_type": "code",
   "execution_count": null,
   "id": "17dfe9bb",
   "metadata": {},
   "outputs": [],
   "source": [
    "#배열의 차원과 크기\n",
    "# c = np.array([[0, 1, 2], [3, 4, 5]])\n",
    "print(c.ndim)\n",
    "print(c.shape)"
   ]
  },
  {
   "cell_type": "code",
   "execution_count": null,
   "id": "60b39154",
   "metadata": {},
   "outputs": [],
   "source": [
    "print(d.ndim)\n",
    "print(d.shape)"
   ]
  },
  {
   "cell_type": "code",
   "execution_count": null,
   "id": "fe664515",
   "metadata": {},
   "outputs": [],
   "source": [
    "#배열 인덱싱\n",
    "#일차원배열= 리스트와 동일\n",
    "a = np.array([0, 1, 2, 3, 4])\n",
    "a[2]\n",
    "a[-1]"
   ]
  },
  {
   "cell_type": "code",
   "execution_count": null,
   "id": "f2c9849d",
   "metadata": {},
   "outputs": [],
   "source": [
    "#다차원배열\n",
    "a = np.array([[0, 1, 2], [3, 4, 5]])\n",
    "a[0, 1]  # 첫번째 행의 두번째 열\n",
    "# a[-1, -1]  # 마지막 행의 마지막 열"
   ]
  },
  {
   "cell_type": "code",
   "execution_count": null,
   "id": "65dffb69",
   "metadata": {},
   "outputs": [],
   "source": [
    "#팬시 인덱싱(fancy indexing)―배열인덱싱\n",
    "#불리언 배열방식\n",
    "a = np.array([0, 1, 2, 3, 4, 5, 6, 7, 8, 9])\n",
    "idx = np.array([True, False, True, False, True,\n",
    "               False, True, False, True, False])\n",
    "a[idx]"
   ]
  },
  {
   "cell_type": "code",
   "execution_count": null,
   "id": "48bfb3cf",
   "metadata": {},
   "outputs": [],
   "source": [
    "a % 2 == 0"
   ]
  },
  {
   "cell_type": "code",
   "execution_count": null,
   "id": "88dedebe",
   "metadata": {},
   "outputs": [],
   "source": [
    "#조건문연산식을 사용한 인덱싱\n",
    "a[a%2==0]  "
   ]
  },
  {
   "cell_type": "code",
   "execution_count": null,
   "id": "9fdc61b5",
   "metadata": {},
   "outputs": [],
   "source": [
    "#정수 배열 방식\n",
    "            # 0    1   2   3   4   5  6   7   8\n",
    "a = np.array([11, 22, 33, 44, 55, 66, 77, 88, 99])\n",
    "idx = np.array([0, 2, 4, 6, 8])  #원소객체 하나의 인덱스\n",
    "a[idx]"
   ]
  },
  {
   "cell_type": "code",
   "execution_count": null,
   "id": "6e3caada",
   "metadata": {},
   "outputs": [],
   "source": [
    "#배열 슬라이싱"
   ]
  },
  {
   "cell_type": "code",
   "execution_count": null,
   "id": "9d62d263",
   "metadata": {},
   "outputs": [],
   "source": [
    "#인덱싱+슬라이싱\n",
    "a = np.array([[1, 2, 3, 4], [5, 6, 7, 8], [9, 10, 11, 12]])\n",
    "a[[0,1], :]  #a[[0,1]]=> 0,1번째 리스트원소를 인덱싱 , : 모든열"
   ]
  },
  {
   "cell_type": "code",
   "execution_count": null,
   "id": "dc778543",
   "metadata": {},
   "outputs": [],
   "source": [
    "#연습문제\n",
    "m = np.array([[ 0,  1,  2,  3,  4],\n",
    "            [ 5,  6,  7,  8,  9],\n",
    "            [10, 11, 12, 13, 14]])\n",
    "m\n",
    "#이 행렬에서 값 7 을 인덱싱한다.\n",
    "# 이 행렬에서 값 14 을 인덱싱한다.\n",
    "# 이 행렬에서 배열 [6, 7] 을 슬라이싱한다.\n",
    "# 이 행렬에서 배열 [7, 12] 을 슬라이싱한다.\n",
    "# 이 행렬에서 배열 [[3, 4], [8, 9]] 을 슬라이싱한다."
   ]
  },
  {
   "cell_type": "code",
   "execution_count": null,
   "id": "5358b986",
   "metadata": {},
   "outputs": [],
   "source": [
    "m[1,2]"
   ]
  },
  {
   "cell_type": "code",
   "execution_count": null,
   "id": "c293f2b0",
   "metadata": {},
   "outputs": [],
   "source": [
    "m[-1,-1]"
   ]
  },
  {
   "cell_type": "code",
   "execution_count": null,
   "id": "03aa1408",
   "metadata": {},
   "outputs": [],
   "source": [
    "m[1,1:3]"
   ]
  },
  {
   "cell_type": "code",
   "execution_count": null,
   "id": "da42071b",
   "metadata": {},
   "outputs": [],
   "source": [
    "m[1:,2]"
   ]
  },
  {
   "cell_type": "code",
   "execution_count": null,
   "id": "03c02c37",
   "metadata": {},
   "outputs": [],
   "source": [
    "m[:2,3:5]"
   ]
  },
  {
   "cell_type": "code",
   "execution_count": null,
   "id": "731cb364",
   "metadata": {},
   "outputs": [],
   "source": [
    "m[[0,1], 3:5]"
   ]
  },
  {
   "cell_type": "code",
   "execution_count": null,
   "id": "d1c19343",
   "metadata": {},
   "outputs": [],
   "source": [
    "m[[1], 1:3]"
   ]
  }
 ],
 "metadata": {
  "kernelspec": {
   "display_name": "Python 3 (ipykernel)",
   "language": "python",
   "name": "python3"
  },
  "language_info": {
   "codemirror_mode": {
    "name": "ipython",
    "version": 3
   },
   "file_extension": ".py",
   "mimetype": "text/x-python",
   "name": "python",
   "nbconvert_exporter": "python",
   "pygments_lexer": "ipython3",
   "version": "3.11.3"
  }
 },
 "nbformat": 4,
 "nbformat_minor": 5
}
