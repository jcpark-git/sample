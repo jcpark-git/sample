{
 "cells": [
  {
   "cell_type": "code",
   "execution_count": null,
   "id": "a3c32989",
   "metadata": {},
   "outputs": [],
   "source": [
    "import numpy as np"
   ]
  },
  {
   "cell_type": "code",
   "execution_count": null,
   "id": "ff5f8a01",
   "metadata": {},
   "outputs": [],
   "source": [
    "# for 반복문과 문자열 연산\n",
    "#연습문제1"
   ]
  },
  {
   "cell_type": "markdown",
   "id": "19affc73",
   "metadata": {},
   "source": [
    "\n",
    "*\n",
    "**\n",
    "***\n",
    "****\n",
    "*****\n",
    "******\n",
    "*******\n",
    "********\n",
    "*********\n",
    "**********\n",
    "*********\n",
    "********\n",
    "*******\n",
    "******\n",
    "*****\n",
    "****\n",
    "***\n",
    "**\n",
    "*\n",
    "\n",
    "     * \n",
    "    ***\n",
    "   *****\n",
    "  *******\n",
    " *********\n",
    "***********\n",
    " *********\n",
    "  *******\n",
    "   *****\n",
    "    ***\n",
    "     *"
   ]
  },
  {
   "cell_type": "code",
   "execution_count": null,
   "id": "6922c024",
   "metadata": {},
   "outputs": [],
   "source": [
    "half_value=10\n",
    "for i in range(1,20,1):       \n",
    "    if(i<=half_value):\n",
    "        print(\"*\"*i)\n",
    "    else:\n",
    "        i=half_value-(i%half_value)\n",
    "        print(\"*\"*i)   "
   ]
  },
  {
   "cell_type": "code",
   "execution_count": null,
   "id": "c428f533",
   "metadata": {},
   "outputs": [],
   "source": [
    "half_value=11\n",
    "    for i in range(1,22,2):       \n",
    "         if(i<=half_value):         \n",
    "            char= \"{:^11}\".format(\"*\"*i)            \n",
    "            print(char)   \n",
    "         else:\n",
    "            i=half_value-(i%half_value)\n",
    "            char= \"{:^11}\".format(\"*\"*i)            \n",
    "            print(char)   "
   ]
  },
  {
   "cell_type": "code",
   "execution_count": null,
   "id": "cdc4d52f",
   "metadata": {},
   "outputs": [],
   "source": [
    "# NumPy배열 슬라이싱\n",
    "#연습문제2\n",
    "m = np.array([[ 0,  1,  2,  3,  4],\n",
    "            [ 5,  6,  7,  8,  9],\n",
    "            [10, 11, 12, 13, 14]])\n",
    "#이 행렬에서 값 7 을 인덱싱한다.\n",
    "# 이 행렬에서 값 14 을 인덱싱한다.\n",
    "# 이 행렬에서 배열 [6, 7] 을 슬라이싱한다.\n",
    "# 이 행렬에서 배열 [7, 12] 을 슬라이싱한다.\n",
    "# 이 행렬에서 배열 [[3, 4], [8, 9]] 을 슬라이싱한다."
   ]
  },
  {
   "cell_type": "code",
   "execution_count": null,
   "id": "230675ae",
   "metadata": {},
   "outputs": [],
   "source": [
    "#NumPy배열생성과 변형\n",
    "#연습문제3\n",
    "#아래와 동일한 배열을 생성 메소드(one, zero, tile)\n",
    "array([[   0.,    0.,    0.,    1.,    1.],\n",
    "        [   0.,    0.,    0.,    1.,    1.],\n",
    "        [   0.,    0.,    0.,    1.,    1.],\n",
    "        [  10.,   20.,   30.,   40.,   50.],\n",
    "        [  60.,   70.,   80.,   90.,  100.],\n",
    "        [ 110.,  120.,  130.,  140.,  150.],\n",
    "        [   0.,    0.,    0.,    1.,    1.],\n",
    "        [   0.,    0.,    0.,    1.,    1.],\n",
    "        [   0.,    0.,    0.,    1.,    1.],\n",
    "        [  10.,   20.,   30.,   40.,   50.],\n",
    "        [  60.,   70.,   80.,   90.,  100.],\n",
    "        [ 110.,  120.,  130.,  140.,  150.]])"
   ]
  },
  {
   "cell_type": "code",
   "execution_count": null,
   "id": "dacde964",
   "metadata": {},
   "outputs": [],
   "source": [
    "a0=np.zeros(3)\n",
    "a0"
   ]
  },
  {
   "cell_type": "code",
   "execution_count": null,
   "id": "e05dc482",
   "metadata": {},
   "outputs": [],
   "source": [
    "a1=np.ones(2)\n",
    "a1"
   ]
  },
  {
   "cell_type": "code",
   "execution_count": null,
   "id": "faa2bbff",
   "metadata": {},
   "outputs": [],
   "source": [
    "a3=np.hstack[a0,a1]"
   ]
  },
  {
   "cell_type": "code",
   "execution_count": null,
   "id": "97cb8763",
   "metadata": {},
   "outputs": [],
   "source": [
    "#NumPy정렬\n",
    "#연습문제 4\n",
    "#첫 번째 행:학번,  두번째 행:영어성적,  세번째 행:수학성적 일 때, 영어성적을 기준으로 모든 열을 재정렬하라\n",
    "\n",
    "x=np.array([[  1,    2,    3,    4],  \n",
    "       [ 46,   99,  100,   71],\n",
    "       [ 81,   59,   90,  100]])"
   ]
  },
  {
   "cell_type": "code",
   "execution_count": null,
   "id": "504fe75a",
   "metadata": {},
   "outputs": [],
   "source": [
    "#데이터프레임 클래스 생성\n",
    "data = {\n",
    "    \"2015\": [9904312, 3448737, 2890451, 2466052],\n",
    "    \"2010\": [9631482, 3393191, 2632035, 2431774],\n",
    "    \"2005\": [9762546, 3512547, 2517680, 2456016],\n",
    "    \"2000\": [9853972, 3655437, 2466338, 2473990],\n",
    "    \"지역\": [\"수도권\", \"경상권\", \"수도권\", \"경상권\"],\n",
    "    \"2010-2015 증가율\": [0.0283, 0.0163, 0.0982, 0.0141]\n",
    "}  #딕셔너리\n",
    "columns = [\"지역\", \"2015\", \"2010\", \"2005\", \"2000\", \"2010-2015 증가율\"] #열방향 인덱스\n",
    "index = [\"서울\", \"부산\", \"인천\", \"대구\"]                               #행방향 인덱스\n",
    "df = pd.DataFrame(data, index=index, columns=columns)\n",
    "df"
   ]
  },
  {
   "cell_type": "code",
   "execution_count": null,
   "id": "b494ef5e",
   "metadata": {},
   "outputs": [],
   "source": [
    "#데이타 프레임 인덱싱\n",
    "#연습문제5\n",
    "data = {\n",
    "    \"국어\": [80, 90, 70, 30],\n",
    "    \"영어\": [90, 70, 60, 40],\n",
    "    \"수학\": [90, 60, 80, 70],\n",
    "}\n",
    "columns = [\"국어\", \"영어\", \"수학\"]\n",
    "index = [\"춘향\", \"몽룡\", \"향단\", \"방자\"]\n",
    "df = pd.DataFrame(data, index=index, columns=columns)\n",
    "df"
   ]
  },
  {
   "cell_type": "code",
   "execution_count": null,
   "id": "d56b026c",
   "metadata": {},
   "outputs": [],
   "source": [
    "#데이타 프레임 고급인덱싱 \n",
    "df = pd.DataFrame(np.arange(10, 22).reshape(3, 4),\n",
    "                  index=[\"a\", \"b\", \"c\"],\n",
    "                  columns=[\"A\", \"B\", \"C\", \"D\"])\n",
    "df"
   ]
  },
  {
   "cell_type": "code",
   "execution_count": null,
   "id": "6f992870",
   "metadata": {
    "scrolled": true
   },
   "outputs": [],
   "source": [
    "#데이타 프레임 데이터조작\n",
    "#연습문제 6\n",
    "#sort_values, value_counts 메서드를 사용하여 타이타닉호 승객에 대해 \n",
    "# 성별(sex) 인원수, 나이별(age) 인원수, 사망/생존(alive) 인원수를 구하라.\n",
    "import seaborn as sns\n",
    "titanic = sns.load_dataset(\"titanic\")\n",
    "titanic.head()"
   ]
  },
  {
   "cell_type": "code",
   "execution_count": null,
   "id": "31c0d2ce",
   "metadata": {},
   "outputs": [],
   "source": [
    "#연습문제 7\n",
    "# 1.타이타닉호 승객의 평균 나이를 구하라.\n",
    "# 2.타이타닉호 승객중 여성 승객의 평균 나이를 구하라.\n",
    "# 3.타이타닉호 승객중 1등실 선실의 여성 승객의 평균 나이를 구하라."
   ]
  },
  {
   "cell_type": "code",
   "execution_count": null,
   "id": "3de2fc34",
   "metadata": {},
   "outputs": [],
   "source": [
    "#Matplotlib, pyplot서브 패키지\n",
    "import matplotlib as mpl\n",
    "import matplotlib.pyplot as plt"
   ]
  },
  {
   "cell_type": "code",
   "execution_count": null,
   "id": "7a90f1d8",
   "metadata": {},
   "outputs": [],
   "source": [
    "#matplotlib 한글폰트설정\n",
    "1.폰트디렉토리위치를 검색한다.\n",
    "mpl.matplotlib_fname()  \n",
    "# 'C:\\\\ProgramData\\\\anaconda3\\\\Lib\\\\site-packages\\\\matplotlib\\\\mpl-data\\\\matplotlibrc'\n",
    "# matplotlibrc파일을 메모장으로 열어 다음과 같은 항목을 아래와 같이 설정한다.\n",
    "#font.family:  NanumGothic\n",
    "#NanumGothic.ttf파일을 복사\n",
    "# 폰트파일 복사 경로 C:\\ProgramData\\anaconda3\\Lib\\site-packages\\matplotlib\\mpl-data\\fonts\\ttf"
   ]
  },
  {
   "cell_type": "code",
   "execution_count": null,
   "id": "c61fc503",
   "metadata": {},
   "outputs": [],
   "source": [
    "#캐쉬파일폴더 검색후 해당폴더 내의 캐쉬파일을 삭제하고 jupyter notebook를 재기동 한다.\n",
    "mpl.get_cachedir()"
   ]
  },
  {
   "cell_type": "code",
   "execution_count": null,
   "id": "fdd6b8dd",
   "metadata": {},
   "outputs": [],
   "source": [
    "# 폰트 설정\n",
    "mpl.rc('font', family='NanumGothic')\n",
    "# 유니코드에서  음수 부호설정\n",
    "mpl.rc('axes', unicode_minus=False)"
   ]
  }
 ],
 "metadata": {
  "kernelspec": {
   "display_name": "Python 3 (ipykernel)",
   "language": "python",
   "name": "python3"
  },
  "language_info": {
   "codemirror_mode": {
    "name": "ipython",
    "version": 3
   },
   "file_extension": ".py",
   "mimetype": "text/x-python",
   "name": "python",
   "nbconvert_exporter": "python",
   "pygments_lexer": "ipython3",
   "version": "3.11.3"
  }
 },
 "nbformat": 4,
 "nbformat_minor": 5
}
