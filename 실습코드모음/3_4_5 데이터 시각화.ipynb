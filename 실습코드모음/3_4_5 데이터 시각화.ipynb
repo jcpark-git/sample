{
 "cells": [
  {
   "cell_type": "code",
   "execution_count": null,
   "id": "8389ed01",
   "metadata": {},
   "outputs": [],
   "source": [
    "#Matplotlib, pyplot서브 패키지\n",
    "import matplotlib as mpl\n",
    "import matplotlib.pyplot as plt"
   ]
  },
  {
   "cell_type": "code",
   "execution_count": null,
   "id": "ded6cc8d",
   "metadata": {},
   "outputs": [],
   "source": [
    "# 폰트 설정\n",
    "mpl.rc('font', family='NanumGothic')\n",
    "# 유니코드에서  음수 부호설정\n",
    "mpl.rc('axes', unicode_minus=False)"
   ]
  },
  {
   "cell_type": "code",
   "execution_count": null,
   "id": "ed045394",
   "metadata": {},
   "outputs": [],
   "source": [
    "#라인플롯\n",
    "plt.title(\"Plot\")\n",
    "x=[1,2,3,4,5]\n",
    "y=[10,20,30,40,50]\n",
    "plt.plot(x,y)\n",
    "plt.show()"
   ]
  },
  {
   "cell_type": "code",
   "execution_count": null,
   "id": "61cbe2e5",
   "metadata": {},
   "outputs": [],
   "source": [
    "plt.rc('font', family='NanumGothic')\n",
    "plt.title('한글 제목')\n",
    "plt.plot([10, 20, 30, 40], [1, 4, 9, 16], 'rs--')\n",
    "plt.xlabel(\"엑스축 라벨\")\n",
    "plt.ylabel(\"와이축 라벨\")\n",
    "plt.show()"
   ]
  },
  {
   "cell_type": "code",
   "execution_count": null,
   "id": "46c7c7a9",
   "metadata": {},
   "outputs": [],
   "source": [
    "#기타스타일\n",
    "plt.plot([1, 2, 3, 4, 5], [10, 20, 30, 40,50], c=\"b\",\n",
    "         lw=2, ls=\"--\", marker=\"o\", ms=5, mec=\"g\", mew=1, mfc=\"r\", label='Data')\n",
    "plt.title(\"스타일 적용 예\")\n",
    "plt.xlabel(\"와이축 라벨\")\n",
    "plt.ylabel(\"와이축 라벨\")\n",
    "plt.legend()\n",
    "plt.show()"
   ]
  },
  {
   "cell_type": "code",
   "execution_count": null,
   "id": "8dc6a256",
   "metadata": {},
   "outputs": [],
   "source": [
    "#pandas 시각화 기능\n",
    "import pandas as pd\n",
    "import numpy as np\n",
    "\n",
    "np.random.seed(0)\n",
    "df1 = pd.DataFrame(np.random.randn(100, 3),\n",
    "                   index=pd.date_range('1/1/2023', periods=100),\n",
    "                   columns=['A', 'B', 'C']).cumsum()\n",
    "df1.tail()"
   ]
  },
  {
   "cell_type": "code",
   "execution_count": null,
   "id": "0495b13d",
   "metadata": {
    "scrolled": true
   },
   "outputs": [],
   "source": [
    "df1.plot()\n",
    "# 폰트 설정\n",
    "plt.rc('font', family='NanumGothic')\n",
    "# 유니코드에서  음수 부호설정\n",
    "plt.rc('axes', unicode_minus=False)\n",
    "plt.title(\"Pandas의 Plot메소드 사용 예\")\n",
    "plt.xlabel(\"시간\")\n",
    "plt.ylabel(\"Data\")\n",
    "plt.show()"
   ]
  },
  {
   "cell_type": "code",
   "execution_count": null,
   "id": "20667bda",
   "metadata": {
    "scrolled": true
   },
   "outputs": [],
   "source": [
    "# Seaborn 패키지 샘플데이타 사용\n",
    "import seaborn as sns\n",
    "\n",
    "iris = sns.load_dataset(\"iris\")    # 붓꽃 데이터\n",
    "titanic = sns.load_dataset(\"titanic\")    # 타이타닉호 데이터\n",
    "\n",
    "iris.sepal_length[:20].plot(kind='box', rot=0)\n",
    "plt.rc('font', family='Malgun Gothic')\n",
    "plt.title(\"Iris 데이터의 Bar plot\")\n",
    "plt.xlabel(\"Data\")\n",
    "plt.ylabel(\"꽃받침의 길이\")\n",
    "plt.show()"
   ]
  },
  {
   "cell_type": "code",
   "execution_count": null,
   "id": "aab9b907",
   "metadata": {},
   "outputs": [],
   "source": [
    "iris[:5].plot.bar(rot=0)\n",
    "plt.rc('font', family='NanumGothic')\n",
    "plt.title(\"Iris 데이터의 Bar Plot\")\n",
    "plt.xlabel(\"Data\")\n",
    "plt.ylabel(\"각 Feature의 값\")\n",
    "plt.ylim(0, 10)\n",
    "plt.show()"
   ]
  }
 ],
 "metadata": {
  "kernelspec": {
   "display_name": "Python 3 (ipykernel)",
   "language": "python",
   "name": "python3"
  },
  "language_info": {
   "codemirror_mode": {
    "name": "ipython",
    "version": 3
   },
   "file_extension": ".py",
   "mimetype": "text/x-python",
   "name": "python",
   "nbconvert_exporter": "python",
   "pygments_lexer": "ipython3",
   "version": "3.11.3"
  }
 },
 "nbformat": 4,
 "nbformat_minor": 5
}
