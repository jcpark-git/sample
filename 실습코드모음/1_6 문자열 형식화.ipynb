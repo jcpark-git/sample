{
 "cells": [
  {
   "cell_type": "markdown",
   "id": "81a39339",
   "metadata": {},
   "source": [
    "%기호 사용 문자열 형식화"
   ]
  },
  {
   "cell_type": "code",
   "execution_count": null,
   "id": "29866b1f",
   "metadata": {
    "scrolled": true
   },
   "outputs": [],
   "source": [
    "\"내 이름은 %s입니다.\" % \"홍길동\""
   ]
  },
  {
   "cell_type": "code",
   "execution_count": null,
   "id": "76dfb9bf",
   "metadata": {},
   "outputs": [],
   "source": [
    "\"나는 %d살 입니다.\" % 12"
   ]
  },
  {
   "cell_type": "code",
   "execution_count": null,
   "id": "1fa63c2f",
   "metadata": {},
   "outputs": [],
   "source": [
    "\"원주율의 값은 %.3f입니다.\" % 3.141592"
   ]
  },
  {
   "cell_type": "code",
   "execution_count": null,
   "id": "df907156",
   "metadata": {},
   "outputs": [],
   "source": [
    "\"%s의 %s 과목 점수는 %d점이다.\" % (\"철수\", \"수학\", 100)"
   ]
  },
  {
   "cell_type": "code",
   "execution_count": null,
   "id": "e08090d7",
   "metadata": {},
   "outputs": [],
   "source": [
    "# 고급 문자열형식화\n",
    "\"[%20s]\" % \"*\"   # [와 ] 사이에 20칸의 공백이 있다."
   ]
  },
  {
   "cell_type": "code",
   "execution_count": null,
   "id": "457455f9",
   "metadata": {},
   "outputs": [],
   "source": [
    "\"[%-20s]\" % \"*\"  # 20칸의 공백의 앞쪽에 A를 인쇄한다."
   ]
  },
  {
   "cell_type": "code",
   "execution_count": null,
   "id": "22d9cbe7",
   "metadata": {},
   "outputs": [],
   "source": [
    "x = 1 / 3.0  # 값은 0.3333333....\n",
    "\"%.1f\" % x   # 소수점 아래 5자리까지만 인쇄한다."
   ]
  },
  {
   "cell_type": "code",
   "execution_count": null,
   "id": "4b12d15d",
   "metadata": {},
   "outputs": [],
   "source": [
    "#Format 메서드 사용 문자열 형식화 \n",
    "\"내 이름은 {}입니다.\".format(\"홍길동\")"
   ]
  },
  {
   "cell_type": "code",
   "execution_count": null,
   "id": "335526f3",
   "metadata": {},
   "outputs": [],
   "source": [
    "\"{2}의 {0} 점수는 {1}점입니다. {1}점! {1}점!\".format(\"수학\", 100, \"철수\")"
   ]
  },
  {
   "cell_type": "code",
   "execution_count": null,
   "id": "a94c700e",
   "metadata": {},
   "outputs": [],
   "source": [
    "#format 방식에서 공백의 크기를 지정하거나 부동소수점의 소수점 아래 숫자를 지정할 경우\n",
    "\"[{:20.5f}]\".format(1 / 3)"
   ]
  },
  {
   "cell_type": "code",
   "execution_count": null,
   "id": "77a00750",
   "metadata": {},
   "outputs": [],
   "source": [
    "\"[{:->20}]\".format(\"*\")"
   ]
  },
  {
   "cell_type": "code",
   "execution_count": null,
   "id": "544b34f7",
   "metadata": {},
   "outputs": [],
   "source": [
    "\"[{:-<20}]\".format(\"*\")"
   ]
  },
  {
   "cell_type": "code",
   "execution_count": null,
   "id": "c65facfe",
   "metadata": {},
   "outputs": [],
   "source": [
    "#-{}안에서 리스트나 사전의 인덱싱을 할 수 있다.\n",
    "x = [10, 11, 12]\n",
    "\"리스트의 첫번째 원소={0[0]},{0[1]},{0[2]}\".format(x)"
   ]
  },
  {
   "cell_type": "code",
   "execution_count": null,
   "id": "e0bf6e56",
   "metadata": {},
   "outputs": [],
   "source": [
    "#조건문과 반복문\n",
    "a = 1\n",
    "if a % 2 == 0:\n",
    " print(\"짝수\")\n",
    "else:\n",
    " print(\"홀수\")"
   ]
  },
  {
   "cell_type": "code",
   "execution_count": null,
   "id": "42b9571b",
   "metadata": {},
   "outputs": [],
   "source": [
    "#반복문\n",
    "for i in range(10):\n",
    "    print(i)"
   ]
  },
  {
   "cell_type": "code",
   "execution_count": null,
   "id": "9120aa84",
   "metadata": {},
   "outputs": [],
   "source": [
    "for n in range(1,5,1): \n",
    "    print(n)"
   ]
  },
  {
   "cell_type": "code",
   "execution_count": null,
   "id": "2c3ca807",
   "metadata": {},
   "outputs": [],
   "source": [
    "for n in range(0,-5,-1): \n",
    " print(n)"
   ]
  }
 ],
 "metadata": {
  "kernelspec": {
   "display_name": "Python 3 (ipykernel)",
   "language": "python",
   "name": "python3"
  },
  "language_info": {
   "codemirror_mode": {
    "name": "ipython",
    "version": 3
   },
   "file_extension": ".py",
   "mimetype": "text/x-python",
   "name": "python",
   "nbconvert_exporter": "python",
   "pygments_lexer": "ipython3",
   "version": "3.11.3"
  }
 },
 "nbformat": 4,
 "nbformat_minor": 5
}
