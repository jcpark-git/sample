{
 "cells": [
  {
   "cell_type": "code",
   "execution_count": null,
   "id": "7a731df6",
   "metadata": {},
   "outputs": [],
   "source": [
    "import pandas as pd\n",
    "import numpy as np\n",
    "#시리즈 클래스\n",
    "#생성 인덱스 지정\n",
    "s = pd.Series([9904312, 3448737, 2890451, 2466052],\n",
    "              index=[\"서울\", \"부산\", \"인천\", \"대구\"])\n",
    "s"
   ]
  },
  {
   "cell_type": "code",
   "execution_count": null,
   "id": "0a3744f4",
   "metadata": {},
   "outputs": [],
   "source": [
    "#인덱스 미지정\n",
    "pd.Series(range(10, 14))"
   ]
  },
  {
   "cell_type": "code",
   "execution_count": null,
   "id": "c08ff333",
   "metadata": {},
   "outputs": [],
   "source": [
    "s.values"
   ]
  },
  {
   "cell_type": "code",
   "execution_count": null,
   "id": "54b2b3a7",
   "metadata": {},
   "outputs": [],
   "source": [
    "s.index"
   ]
  },
  {
   "cell_type": "code",
   "execution_count": null,
   "id": "9c18bc6d",
   "metadata": {},
   "outputs": [],
   "source": [
    "#인덱싱\n",
    "s[1], s[\"부산\"]"
   ]
  },
  {
   "cell_type": "code",
   "execution_count": null,
   "id": "1c687667",
   "metadata": {
    "scrolled": true
   },
   "outputs": [],
   "source": [
    "#배열인덱싱, 문자열라벨을 이용한 인덱싱\n",
    "s[[0, 3, 1]]"
   ]
  },
  {
   "cell_type": "code",
   "execution_count": null,
   "id": "5e1f520b",
   "metadata": {},
   "outputs": [],
   "source": [
    "s[[\"서울\", \"대구\", \"부산\"]]"
   ]
  },
  {
   "cell_type": "code",
   "execution_count": null,
   "id": "7493af9b",
   "metadata": {},
   "outputs": [],
   "source": [
    "#슬라이싱 문자열 라벨 사용\n",
    "s[\"부산\":\"대구\"]  # 부산에서 대구까지 (대구도 포함)"
   ]
  },
  {
   "cell_type": "code",
   "execution_count": null,
   "id": "af1c52ab",
   "metadata": {},
   "outputs": [],
   "source": [
    "#시리즈와 딕셔너리\n",
    "#In연산\n",
    "\"서울\" in s  # 인덱스 라벨 중에 서울이 있는가"
   ]
  },
  {
   "cell_type": "code",
   "execution_count": null,
   "id": "370d5f46",
   "metadata": {},
   "outputs": [],
   "source": [
    "#item 메서드를 통한 key,value 접근\n",
    "for k, v in s.items():\n",
    "    print(\"%s = %d\" % (k, v))"
   ]
  },
  {
   "cell_type": "code",
   "execution_count": null,
   "id": "46b6b7b5",
   "metadata": {},
   "outputs": [],
   "source": [
    "#딕셔너리개체를 사용한 시리즈 생성\n",
    "#시리즈로 순서를 보장하지 않음, 순서 지정을 위해서는 인덱스 값을 리스트로 저장 필요\n",
    "s2 = pd.Series({\"서울\": 9631482, \"부산\": 3393191, \"인천\": 2632035, \"대전\": 1490158},\n",
    "               index=[\"부산\", \"서울\", \"인천\", \"대전\"])\n",
    "s2\n"
   ]
  },
  {
   "cell_type": "code",
   "execution_count": null,
   "id": "19f6c654",
   "metadata": {},
   "outputs": [],
   "source": [
    "#인덱스 기반연산\n",
    "ds = s - s2\n",
    "ds"
   ]
  },
  {
   "cell_type": "code",
   "execution_count": null,
   "id": "29923f67",
   "metadata": {},
   "outputs": [],
   "source": [
    "#notnull\n",
    "ds.notnull()"
   ]
  },
  {
   "cell_type": "code",
   "execution_count": null,
   "id": "687f886f",
   "metadata": {},
   "outputs": [],
   "source": [
    "ds[ds.notnull()]"
   ]
  },
  {
   "cell_type": "code",
   "execution_count": null,
   "id": "cc06ead2",
   "metadata": {},
   "outputs": [],
   "source": [
    "#데이터 갱신 추가 삭제\n",
    "ds[\"대구\"] = 1.41\n",
    "ds"
   ]
  },
  {
   "cell_type": "code",
   "execution_count": null,
   "id": "67045047",
   "metadata": {},
   "outputs": [],
   "source": [
    "del ds[\"대구\"]\n",
    "ds"
   ]
  },
  {
   "cell_type": "code",
   "execution_count": null,
   "id": "15147880",
   "metadata": {
    "scrolled": true
   },
   "outputs": [],
   "source": [
    "#데이터프레임 클래스 생성\n",
    "data = {\n",
    "    \"2015\": [9904312, 3448737, 2890451, 2466052],\n",
    "    \"2010\": [9631482, 3393191, 2632035, 2431774],\n",
    "    \"2005\": [9762546, 3512547, 2517680, 2456016],\n",
    "    \"2000\": [9853972, 3655437, 2466338, 2473990],\n",
    "    \"지역\": [\"수도권\", \"경상권\", \"수도권\", \"경상권\"],\n",
    "    \"2010-2015 증가율\": [0.0283, 0.0163, 0.0982, 0.0141]\n",
    "}  #딕셔너리\n",
    "columns = [\"지역\", \"2015\", \"2010\", \"2005\", \"2000\", \"2010-2015 증가율\"] #열방향 인덱스\n",
    "index = [\"서울\", \"부산\", \"인천\", \"대구\"]                               #행방향 인덱스\n",
    "df = pd.DataFrame(data, index=index, columns=columns)\n",
    "df"
   ]
  },
  {
   "cell_type": "code",
   "execution_count": null,
   "id": "4eeb8c12",
   "metadata": {
    "scrolled": true
   },
   "outputs": [],
   "source": [
    "#데이터 접근\n",
    "df.values"
   ]
  },
  {
   "cell_type": "code",
   "execution_count": null,
   "id": "f981a7d7",
   "metadata": {},
   "outputs": [],
   "source": [
    "#열방향 인덱스\n",
    "df.columns"
   ]
  },
  {
   "cell_type": "code",
   "execution_count": null,
   "id": "c3c99593",
   "metadata": {},
   "outputs": [],
   "source": [
    "#행방향 인덱스\n",
    "df.index"
   ]
  },
  {
   "cell_type": "code",
   "execution_count": null,
   "id": "0bd37b8f",
   "metadata": {
    "scrolled": true
   },
   "outputs": [],
   "source": [
    "#열 단위 데이터의 갱신, 추가,삭제\n",
    "# \"2010-2015 증가율\"이라는 이름의 열 추가\n",
    "df[\"2010-2015 증가율\"] = df[\"2010-2015 증가율\"] * 100\n",
    "df"
   ]
  },
  {
   "cell_type": "code",
   "execution_count": null,
   "id": "9a8ebe5b",
   "metadata": {},
   "outputs": [],
   "source": [
    "# \"2010-2015 증가율\"이라는 이름의 열 삭제\n",
    "del df[\"2010-2015 증가율\"]\n",
    "df"
   ]
  },
  {
   "cell_type": "code",
   "execution_count": null,
   "id": "d9cf31cc",
   "metadata": {},
   "outputs": [],
   "source": [
    "#열인덱싱\n",
    "# 하나의 열만 인덱싱하면 시리즈가 반환된다.\n",
    "df[\"지역\"] \n",
    "type(df[\"지역\"])"
   ]
  },
  {
   "cell_type": "code",
   "execution_count": null,
   "id": "611f0cee",
   "metadata": {},
   "outputs": [],
   "source": [
    "# 여러개의 열(리스트)을 인덱싱하면 부분적인 데이터프레임이 반환된다.\n",
    "a=df[[\"2010\", \"2015\"]]\n",
    "type(a)"
   ]
  },
  {
   "cell_type": "code",
   "execution_count": null,
   "id": "e630476f",
   "metadata": {},
   "outputs": [],
   "source": [
    "#하나의 열을 인덱싱할 때, 데이터프레임 자료형 유지를 위해서는 리스트를 사용하여 인덱싱\n",
    "df[[\"2010\"]]"
   ]
  },
  {
   "cell_type": "code",
   "execution_count": null,
   "id": "a77d80a6",
   "metadata": {
    "scrolled": true
   },
   "outputs": [],
   "source": [
    "#열인덱스가 문자열인 경우 정수인덱스 사용불가  =>KeyError\n",
    "df[0]"
   ]
  },
  {
   "cell_type": "code",
   "execution_count": null,
   "id": "2a30a405",
   "metadata": {
    "scrolled": true
   },
   "outputs": [],
   "source": [
    "#정수형 열 인덱스의 경우 열인덱싱할 때 정수인덱스 사용가능\n",
    "import pandas as pd\n",
    "import numpy as np\n",
    "df2 = pd.DataFrame(np.arange(12).reshape(3, 4))\n",
    "df2"
   ]
  },
  {
   "cell_type": "code",
   "execution_count": null,
   "id": "26476b56",
   "metadata": {},
   "outputs": [],
   "source": [
    "df2[[2]]\n",
    "# df2[[1, 2]]"
   ]
  },
  {
   "cell_type": "code",
   "execution_count": null,
   "id": "4d7701f5",
   "metadata": {},
   "outputs": [],
   "source": [
    "#행 인덱싱\n",
    "#이전 슬라이싱 규칙과 동일\n",
    "df[:1]"
   ]
  },
  {
   "cell_type": "code",
   "execution_count": null,
   "id": "fa63cf4e",
   "metadata": {
    "scrolled": true
   },
   "outputs": [],
   "source": [
    "df[1:3]"
   ]
  },
  {
   "cell_type": "code",
   "execution_count": null,
   "id": "6c25f040",
   "metadata": {},
   "outputs": [],
   "source": [
    "#개별원소에 대한 인덱싱\n",
    "df[\"2015\"][\"서울\"]"
   ]
  },
  {
   "cell_type": "code",
   "execution_count": null,
   "id": "dc508b49",
   "metadata": {},
   "outputs": [],
   "source": [
    "#데이타 프레임 인덱싱관련\n",
    "#연습문제\n",
    "data = {\n",
    "    \"국어\": [80, 90, 70, 30],\n",
    "    \"영어\": [90, 70, 60, 40],\n",
    "    \"수학\": [90, 60, 80, 70],\n",
    "}\n",
    "columns = [\"국어\", \"영어\", \"수학\"]\n",
    "index = [\"춘향\", \"몽룡\", \"향단\", \"방자\"]\n",
    "df = pd.DataFrame(data, index=index, columns=columns)\n",
    "df"
   ]
  },
  {
   "cell_type": "code",
   "execution_count": null,
   "id": "d3a4abed",
   "metadata": {},
   "outputs": [],
   "source": [
    "# (1) 모든 학생의 수학 점수를 시리즈로 나타낸다.\n",
    "df[\"수학\"]"
   ]
  },
  {
   "cell_type": "code",
   "execution_count": null,
   "id": "1cd1d2ab",
   "metadata": {},
   "outputs": [],
   "source": [
    "# (2) 모든 학생의 국어와 영어 점수를 데이터 프레임으로 나타낸다.\n",
    "df[[\"국어\", \"영어\"]]"
   ]
  },
  {
   "cell_type": "code",
   "execution_count": null,
   "id": "11f318ee",
   "metadata": {},
   "outputs": [],
   "source": [
    "# (3) 모든 학생의 각 과목 평균 점수를 새로운 열로 추가한다.\n",
    "df[\"평균\"]=df.mean(axis=1)  #행연산 axis=1\n",
    "df"
   ]
  },
  {
   "cell_type": "code",
   "execution_count": null,
   "id": "eff34852",
   "metadata": {},
   "outputs": [],
   "source": [
    "# (4) 방자의 영어 점수를 80점으로 수정하고 평균 점수도 다시 계산한다.\n",
    "#df[\"영어\"][\"방자\"]=80\n",
    "df.loc[\"방자\",\"영어\"] = 80\n",
    "df[\"평균\"]=df.mean(axis=1)\n",
    "df"
   ]
  },
  {
   "cell_type": "code",
   "execution_count": null,
   "id": "534ce6b7",
   "metadata": {},
   "outputs": [],
   "source": [
    "# (5) 춘향의 점수를 데이터프레임으로 나타낸다.\n",
    "df[:\"춘향\"]\n",
    "# df[:1]"
   ]
  },
  {
   "cell_type": "code",
   "execution_count": null,
   "id": "21a26c0e",
   "metadata": {},
   "outputs": [],
   "source": []
  }
 ],
 "metadata": {
  "kernelspec": {
   "display_name": "Python 3 (ipykernel)",
   "language": "python",
   "name": "python3"
  },
  "language_info": {
   "codemirror_mode": {
    "name": "ipython",
    "version": 3
   },
   "file_extension": ".py",
   "mimetype": "text/x-python",
   "name": "python",
   "nbconvert_exporter": "python",
   "pygments_lexer": "ipython3",
   "version": "3.11.3"
  }
 },
 "nbformat": 4,
 "nbformat_minor": 5
}
