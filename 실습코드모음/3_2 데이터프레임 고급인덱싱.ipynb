{
 "cells": [
  {
   "cell_type": "markdown",
   "id": "37693ad5",
   "metadata": {},
   "source": [
    "#데이터 프레임 고급 인덱싱"
   ]
  },
  {
   "cell_type": "code",
   "execution_count": null,
   "id": "edc1d4d5",
   "metadata": {},
   "outputs": [],
   "source": [
    "import pandas as pd\n",
    "import numpy as np"
   ]
  },
  {
   "cell_type": "code",
   "execution_count": null,
   "id": "ba60b767",
   "metadata": {
    "scrolled": true
   },
   "outputs": [],
   "source": [
    "df = pd.DataFrame(np.arange(10, 22).reshape(3, 4),\n",
    "                  index=[\"a\", \"b\", \"c\"],\n",
    "                  columns=[\"A\", \"B\", \"C\", \"D\"])\n",
    "df"
   ]
  },
  {
   "cell_type": "code",
   "execution_count": null,
   "id": "028988ab",
   "metadata": {},
   "outputs": [],
   "source": [
    "#loc인덱서\n",
    "#인덱싱 값이 하나인 경우 시리즈 형태의 자료형으로 출력\n",
    "df.loc[\"a\"]"
   ]
  },
  {
   "cell_type": "code",
   "execution_count": null,
   "id": "31ad5518",
   "metadata": {},
   "outputs": [],
   "source": [
    "#인덱싱값=인덱스 데이터 슬라이싱\n",
    "df.loc[\"b\":\"c\"]  # df[\"b\":\"c\"]"
   ]
  },
  {
   "cell_type": "code",
   "execution_count": null,
   "id": "0c008686",
   "metadata": {
    "scrolled": true
   },
   "outputs": [],
   "source": [
    "#인덱싱값=불리언 시리즈\n",
    "df.loc[df.A > 15]"
   ]
  },
  {
   "cell_type": "code",
   "execution_count": null,
   "id": "9e661859",
   "metadata": {},
   "outputs": [],
   "source": [
    "#인덱싱값=함수인 경우\n",
    "def select_rows(df):\n",
    "    return df.A > 15"
   ]
  },
  {
   "cell_type": "code",
   "execution_count": null,
   "id": "84d7850a",
   "metadata": {},
   "outputs": [],
   "source": [
    "df.loc[select_rows(df)]"
   ]
  },
  {
   "cell_type": "code",
   "execution_count": null,
   "id": "6ea51212",
   "metadata": {},
   "outputs": [],
   "source": [
    "#원래 행 인덱스값이 정수인경우의 슬라이싱=>라벨 슬라이싱 방식과 동일\n",
    "df2 = pd.DataFrame(np.arange(10, 26).reshape(4, 4), columns=[\"A\", \"B\", \"C\", \"D\"])\n",
    "df2"
   ]
  },
  {
   "cell_type": "code",
   "execution_count": null,
   "id": "c1585d3b",
   "metadata": {
    "scrolled": false
   },
   "outputs": [],
   "source": [
    "df2.loc[1:2]  #라벨슬라이싱 마지막 값이 포함됨"
   ]
  },
  {
   "cell_type": "code",
   "execution_count": null,
   "id": "cce722cb",
   "metadata": {},
   "outputs": [],
   "source": [
    "df2.iloc[1:2]   # 라벨 슬라이싱 방식을 따르지 않음"
   ]
  },
  {
   "cell_type": "code",
   "execution_count": null,
   "id": "c61522d4",
   "metadata": {},
   "outputs": [],
   "source": [
    "df = pd.DataFrame(np.arange(10, 22).reshape(3, 4),\n",
    "                  index=[\"a\", \"b\", \"c\"],\n",
    "                  columns=[\"A\", \"B\", \"C\", \"D\"])\n",
    "df"
   ]
  },
  {
   "cell_type": "code",
   "execution_count": null,
   "id": "311e9c07",
   "metadata": {},
   "outputs": [],
   "source": [
    "#인덱싱 값을 행과 열 모두 받는 경우\n",
    "df.loc[\"a\", \"A\"]"
   ]
  },
  {
   "cell_type": "code",
   "execution_count": null,
   "id": "a7f9f51f",
   "metadata": {},
   "outputs": [],
   "source": [
    "df.loc[\"b\":, \"A\"]\n",
    "df.loc[\"a\", :]\n",
    "df.loc[[\"a\", \"b\"], [\"B\", \"D\"]]\n",
    "df.loc[df.A > 10, [\"C\", \"D\"]]"
   ]
  },
  {
   "cell_type": "code",
   "execution_count": null,
   "id": "7373c966",
   "metadata": {},
   "outputs": [],
   "source": [
    "#iloc  순서를 나타내는 정수 인덱스값을 사용\n",
    "df.iloc[0, 1]  #0행 1열"
   ]
  },
  {
   "cell_type": "code",
   "execution_count": null,
   "id": "2136bf88",
   "metadata": {},
   "outputs": [],
   "source": [
    "df.iloc[:2, 2]  "
   ]
  },
  {
   "cell_type": "code",
   "execution_count": null,
   "id": "21e8fd73",
   "metadata": {},
   "outputs": [],
   "source": [
    "df.iloc[0, -2:]"
   ]
  },
  {
   "cell_type": "code",
   "execution_count": null,
   "id": "15564ee1",
   "metadata": {},
   "outputs": [],
   "source": [
    "df.iloc[2:3, 1:3]  #2행 1열2열 값\n",
    "#df.iloc[-1]\n",
    "# df.iloc[-1] = df.iloc[-1] * 2"
   ]
  },
  {
   "cell_type": "markdown",
   "id": "732de530",
   "metadata": {},
   "source": [
    "#데이터 프레임의 데이터 조작"
   ]
  },
  {
   "cell_type": "code",
   "execution_count": null,
   "id": "9eac52b5",
   "metadata": {},
   "outputs": [],
   "source": [
    "#count\n",
    "np.random.seed(2)\n",
    "df = pd.DataFrame(np.random.randint(5, size=(4, 4)), dtype=float)\n",
    "df.iloc[2, 3] = np.nan\n",
    "df"
   ]
  },
  {
   "cell_type": "code",
   "execution_count": null,
   "id": "d3d231a8",
   "metadata": {},
   "outputs": [],
   "source": [
    "df.count()"
   ]
  },
  {
   "cell_type": "code",
   "execution_count": null,
   "id": "0ede35d8",
   "metadata": {},
   "outputs": [],
   "source": [
    "#카테고리 값 세기\n",
    "#시리즈\n",
    "np.random.seed(1)\n",
    "s2 = pd.Series(np.random.randint(6, size=100))\n",
    "s2.tail()"
   ]
  },
  {
   "cell_type": "code",
   "execution_count": null,
   "id": "12588b0b",
   "metadata": {},
   "outputs": [],
   "source": [
    "s2.value_counts()"
   ]
  },
  {
   "cell_type": "code",
   "execution_count": null,
   "id": "44127de4",
   "metadata": {},
   "outputs": [],
   "source": [
    "#데이타 프레임의 경우 각 열(시리즈)마다 적용해야함\n",
    "df[3].value_counts()"
   ]
  },
  {
   "cell_type": "code",
   "execution_count": null,
   "id": "e8ba1add",
   "metadata": {},
   "outputs": [],
   "source": [
    "#정렬 default는 오름차순\n",
    "s2.value_counts().sort_index()"
   ]
  },
  {
   "cell_type": "code",
   "execution_count": null,
   "id": "d8aad43f",
   "metadata": {},
   "outputs": [],
   "source": [
    "s2.value_counts().sort_values()"
   ]
  },
  {
   "cell_type": "code",
   "execution_count": null,
   "id": "42081b18",
   "metadata": {},
   "outputs": [],
   "source": [
    "s = pd.Series(range(10))\n",
    "s[3] = np.nan\n",
    "s"
   ]
  },
  {
   "cell_type": "code",
   "execution_count": null,
   "id": "fc5f2dea",
   "metadata": {},
   "outputs": [],
   "source": [
    "s.sort_values()"
   ]
  },
  {
   "cell_type": "code",
   "execution_count": null,
   "id": "0fc3b43a",
   "metadata": {},
   "outputs": [],
   "source": [
    "s.sort_values(ascending=False)  #내림차순정렬"
   ]
  },
  {
   "cell_type": "code",
   "execution_count": null,
   "id": "42afd6bc",
   "metadata": {},
   "outputs": [],
   "source": [
    "#데이타프레임에서 sort_value사용시 by 인수로 sort의 기준열을 지정\n",
    "df.sort_values(by=1)  "
   ]
  },
  {
   "cell_type": "code",
   "execution_count": null,
   "id": "de404cc2",
   "metadata": {},
   "outputs": [],
   "source": [
    "df.sort_values(by=[1, 2])  #by인수가 리스트인 경우 해당열의순서대로 우선순위부여 정렬"
   ]
  },
  {
   "cell_type": "markdown",
   "id": "f1e2150f",
   "metadata": {},
   "source": [
    "연습문제 #6\n",
    "sort_values 메서드를 사용하여 타이타닉호 승객에 대해 \n",
    "성별(sex) 인원수, 나이별(age) 인원수, 사망/생존(alive) 인원수를 구하라."
   ]
  },
  {
   "cell_type": "code",
   "execution_count": null,
   "id": "2d4ba301",
   "metadata": {},
   "outputs": [],
   "source": [
    "import seaborn as sns\n",
    "titanic = sns.load_dataset(\"titanic\")\n",
    "titanic.head()"
   ]
  },
  {
   "cell_type": "code",
   "execution_count": null,
   "id": "26ec0dde",
   "metadata": {},
   "outputs": [],
   "source": [
    "titanic.sort_values(by='age', ascending=False)"
   ]
  },
  {
   "cell_type": "code",
   "execution_count": null,
   "id": "9e97710c",
   "metadata": {},
   "outputs": [],
   "source": [
    "titanic['sex'].value_counts()"
   ]
  },
  {
   "cell_type": "code",
   "execution_count": null,
   "id": "2c8196d9",
   "metadata": {},
   "outputs": [],
   "source": [
    "titanic['alive'].value_counts()"
   ]
  },
  {
   "cell_type": "code",
   "execution_count": null,
   "id": "2ab1b90a",
   "metadata": {},
   "outputs": [],
   "source": [
    "#행과 열의 합계\n",
    "np.random.seed(1)\n",
    "df2 = pd.DataFrame(np.random.randint(10, size=(4, 8)))\n",
    "df2"
   ]
  },
  {
   "cell_type": "code",
   "execution_count": null,
   "id": "9670d36c",
   "metadata": {},
   "outputs": [],
   "source": [
    "df2.sum(axis=1)   #행방향 합계"
   ]
  },
  {
   "cell_type": "code",
   "execution_count": null,
   "id": "29d11ee6",
   "metadata": {},
   "outputs": [],
   "source": [
    "#행방향 합계=> 신규열 추가\n",
    "df2[\"RowSum\"] = df2.sum(axis=1)\n",
    "df2"
   ]
  },
  {
   "cell_type": "code",
   "execution_count": null,
   "id": "261d2bee",
   "metadata": {},
   "outputs": [],
   "source": [
    "df2.sum()      #열방향 합계"
   ]
  },
  {
   "cell_type": "code",
   "execution_count": null,
   "id": "682f0f9d",
   "metadata": {
    "scrolled": true
   },
   "outputs": [],
   "source": [
    "df2.loc[\"ColTotal\", :] = df2.sum()    #열방향 합계=> 신규행 추가\n",
    "df2"
   ]
  },
  {
   "cell_type": "code",
   "execution_count": null,
   "id": "d49da655",
   "metadata": {},
   "outputs": [],
   "source": [
    "df2[\"RowSum\"].mean()  #열 평균"
   ]
  },
  {
   "cell_type": "code",
   "execution_count": null,
   "id": "023429e1",
   "metadata": {},
   "outputs": [],
   "source": [
    "df2.iloc[0].mean() #행평균"
   ]
  },
  {
   "cell_type": "markdown",
   "id": "1eb3b6bb",
   "metadata": {},
   "source": [
    "연습문제 #7\n",
    "1.타이타닉호 승객의 평균 나이를 구하라.\n",
    "2.타이타닉호 승객중 여성 승객의 평균 나이를 구하라.\n",
    "3.타이타닉호 승객중 1등실 선실의 여성 승객의 평균 나이를 구하라."
   ]
  },
  {
   "cell_type": "code",
   "execution_count": null,
   "id": "0fcb7886",
   "metadata": {
    "scrolled": true
   },
   "outputs": [],
   "source": [
    "titanic.head()"
   ]
  },
  {
   "cell_type": "code",
   "execution_count": null,
   "id": "a49f883d",
   "metadata": {},
   "outputs": [],
   "source": [
    "titanic.loc[(titanic['sex']=='female')&(titanic['class']=='First'),['age']].mean()"
   ]
  },
  {
   "cell_type": "code",
   "execution_count": null,
   "id": "4dfe6347",
   "metadata": {},
   "outputs": [],
   "source": [
    "#apply변환\n",
    "df3 = pd.DataFrame({\n",
    "    'A': [1, 3, 4, 3, 4],\n",
    "    'B': [2, 3, 1, 2, 3],\n",
    "    'C': [1, 5, 2, 4, 4]\n",
    "})\n",
    "df3"
   ]
  },
  {
   "cell_type": "code",
   "execution_count": null,
   "id": "e34e02c5",
   "metadata": {},
   "outputs": [],
   "source": [
    "df3.apply(lambda x: x.max() - x.min())  #열기준"
   ]
  },
  {
   "cell_type": "code",
   "execution_count": null,
   "id": "010f022e",
   "metadata": {},
   "outputs": [],
   "source": [
    "df3.apply(lambda x: x.max() - x.min(), axis=1) #행기준"
   ]
  },
  {
   "cell_type": "code",
   "execution_count": null,
   "id": "e6eb9651",
   "metadata": {},
   "outputs": [],
   "source": [
    "titanic[\"adult/child\"] = titanic.apply(lambda x: \"adult\" if x.age >= 20 else \"child\", axis=1)\n",
    "titanic.tail()"
   ]
  },
  {
   "cell_type": "code",
   "execution_count": null,
   "id": "bfe8cdcd",
   "metadata": {
    "scrolled": false
   },
   "outputs": [],
   "source": [
    "#fillna 메서드\n",
    "df3.apply(pd.value_counts)"
   ]
  },
  {
   "cell_type": "code",
   "execution_count": null,
   "id": "23589b1f",
   "metadata": {},
   "outputs": [],
   "source": [
    "df3.apply(pd.value_counts).fillna(0)"
   ]
  },
  {
   "cell_type": "code",
   "execution_count": null,
   "id": "06fe3439",
   "metadata": {},
   "outputs": [],
   "source": [
    "#astype\n",
    "df3.apply(pd.value_counts).fillna(0).astype(int)"
   ]
  },
  {
   "cell_type": "markdown",
   "id": "0accbdb3",
   "metadata": {},
   "source": [
    "데이터 프레임의 합성"
   ]
  },
  {
   "cell_type": "code",
   "execution_count": null,
   "id": "844e1e69",
   "metadata": {},
   "outputs": [],
   "source": [
    "#merge함수\n",
    "df1 = pd.DataFrame({\n",
    "    '고객번호': [1001, 1002, 1003, 1004, 1005, 1006, 1007],\n",
    "    '이름': ['둘리', '도우너', '또치', '길동', '희동', '마이콜', '영희']\n",
    "}, columns=['고객번호', '이름'])\n",
    "df1"
   ]
  },
  {
   "cell_type": "code",
   "execution_count": null,
   "id": "412580e7",
   "metadata": {},
   "outputs": [],
   "source": [
    "df2 = pd.DataFrame({\n",
    "    '고객번호': [1001, 1001, 1005, 1006, 1008, 1001],\n",
    "    '금액': [10000, 20000, 15000, 5000, 100000, 30000]\n",
    "}, columns=['고객번호', '금액'])\n",
    "df2"
   ]
  },
  {
   "cell_type": "code",
   "execution_count": null,
   "id": "e2335999",
   "metadata": {},
   "outputs": [],
   "source": [
    "pd.merge(df1, df2) # inner join방식"
   ]
  },
  {
   "cell_type": "code",
   "execution_count": null,
   "id": "acba593c",
   "metadata": {},
   "outputs": [],
   "source": [
    "pd.merge(df1, df2, how='outer') # outer join방식"
   ]
  },
  {
   "cell_type": "code",
   "execution_count": null,
   "id": "f729773a",
   "metadata": {},
   "outputs": [],
   "source": [
    "#left, right\n",
    "pd.merge(df1, df2, how='left') #df1 키값을 기준"
   ]
  },
  {
   "cell_type": "code",
   "execution_count": null,
   "id": "4509ebb3",
   "metadata": {},
   "outputs": [],
   "source": [
    "pd.merge(df1, df2, how='right') #df2 키값을 기준"
   ]
  },
  {
   "cell_type": "code",
   "execution_count": null,
   "id": "7f09a136",
   "metadata": {},
   "outputs": [],
   "source": [
    "#중복된 키가 여러개 있는 경우\n",
    "df1 = pd.DataFrame({\n",
    "    '품종': ['setosa', 'setosa', 'virginica', 'virginica'],\n",
    "    '꽃잎길이': [1.4, 1.3, 1.5, 1.3]},\n",
    "    columns=['품종', '꽃잎길이'])\n",
    "df1"
   ]
  },
  {
   "cell_type": "code",
   "execution_count": null,
   "id": "a4b5f560",
   "metadata": {},
   "outputs": [],
   "source": [
    "df2 = pd.DataFrame({\n",
    "    '품종': ['setosa', 'virginica', 'virginica', 'versicolor'],\n",
    "    '꽃잎너비': [0.4, 0.3, 0.5, 0.3]},\n",
    "    columns=['품종', '꽃잎너비'])\n",
    "df2"
   ]
  },
  {
   "cell_type": "code",
   "execution_count": null,
   "id": "48741dd1",
   "metadata": {},
   "outputs": [],
   "source": [
    "pd.merge(df1, df2)"
   ]
  },
  {
   "cell_type": "code",
   "execution_count": null,
   "id": "9875c19d",
   "metadata": {},
   "outputs": [],
   "source": [
    "#기준열 on인수 사용\n",
    "df1 = pd.DataFrame({\n",
    "    '고객명': ['춘향', '춘향', '몽룡'],\n",
    "    '날짜': ['2018-01-01', '2018-01-02', '2018-01-01'],\n",
    "    '데이터': ['20000', '30000', '100000']})\n",
    "df1"
   ]
  },
  {
   "cell_type": "code",
   "execution_count": null,
   "id": "37ac0758",
   "metadata": {},
   "outputs": [],
   "source": [
    "df2 = pd.DataFrame({\n",
    "    '고객명': ['춘향', '몽룡'],\n",
    "    '데이터': ['여자', '남자']})\n",
    "df2"
   ]
  },
  {
   "cell_type": "code",
   "execution_count": null,
   "id": "00f669ec",
   "metadata": {},
   "outputs": [],
   "source": [
    "pd.merge(df1, df2, on='고객명')"
   ]
  },
  {
   "cell_type": "code",
   "execution_count": null,
   "id": "78e084f6",
   "metadata": {},
   "outputs": [],
   "source": [
    "#기준열의 이름이 다른경우 right_on left_on\n",
    "df1 = pd.DataFrame({\n",
    "    '이름': ['영희', '철수', '철수'],\n",
    "    '성적': [1, 2, 3]})\n",
    "df1"
   ]
  },
  {
   "cell_type": "code",
   "execution_count": null,
   "id": "d6cbb601",
   "metadata": {},
   "outputs": [],
   "source": [
    "df2 = pd.DataFrame({\n",
    "    '성명': ['영희', '영희', '철수'],\n",
    "    '성적2': [4, 5, 6]})\n",
    "df2"
   ]
  },
  {
   "cell_type": "code",
   "execution_count": null,
   "id": "03e1428a",
   "metadata": {},
   "outputs": [],
   "source": [
    "pd.merge(df1,df2,left_on='이름', right_on='성명')"
   ]
  },
  {
   "cell_type": "code",
   "execution_count": null,
   "id": "69fd6368",
   "metadata": {
    "scrolled": true
   },
   "outputs": [],
   "source": [
    "#index를 기준열로 하는 경우의 merage\n",
    "df1 = pd.DataFrame({\n",
    "    '도시': ['서울', '서울', '서울', '부산', '부산'],\n",
    "    '연도': [2000, 2005, 2010, 2000, 2005],\n",
    "    '인구': [9853972, 9762546, 9631482, 3655437, 3512547]})\n",
    "df1"
   ]
  },
  {
   "cell_type": "code",
   "execution_count": null,
   "id": "306aa787",
   "metadata": {},
   "outputs": [],
   "source": [
    "df2 = pd.DataFrame(\n",
    "    np.arange(12).reshape((6, 2)),\n",
    "    index=[['부산', '부산', '서울', '서울', '서울', '서울'],\n",
    "           [2000, 2005, 2000, 2005, 2010, 2015]],\n",
    "    columns=['데이터1', '데이터2'])\n",
    "df2"
   ]
  },
  {
   "cell_type": "code",
   "execution_count": null,
   "id": "78b84ccb",
   "metadata": {},
   "outputs": [],
   "source": [
    "pd.merge(df1, df2, left_on=['도시', '연도'], right_index=True)"
   ]
  },
  {
   "cell_type": "code",
   "execution_count": null,
   "id": "cf69d965",
   "metadata": {},
   "outputs": [],
   "source": [
    "#concat함수를 사용한 merge axis=0:세로연결, axis=1:가로연결\n",
    "df1 = pd.DataFrame(\n",
    "    np.arange(6).reshape(3, 2),\n",
    "    index=['a', 'b', 'c'],\n",
    "    columns=['데이터1', '데이터2'])\n",
    "df1"
   ]
  },
  {
   "cell_type": "code",
   "execution_count": null,
   "id": "f6599c25",
   "metadata": {},
   "outputs": [],
   "source": [
    "df2 = pd.DataFrame(\n",
    "    5 + np.arange(4).reshape(2, 2),\n",
    "    index=['a', 'c'],\n",
    "    columns=['데이터3', '데이터4'])\n",
    "df2"
   ]
  },
  {
   "cell_type": "code",
   "execution_count": null,
   "id": "55c5a968",
   "metadata": {},
   "outputs": [],
   "source": [
    "pd.concat([df1, df2], axis=0)"
   ]
  }
 ],
 "metadata": {
  "kernelspec": {
   "display_name": "Python 3 (ipykernel)",
   "language": "python",
   "name": "python3"
  },
  "language_info": {
   "codemirror_mode": {
    "name": "ipython",
    "version": 3
   },
   "file_extension": ".py",
   "mimetype": "text/x-python",
   "name": "python",
   "nbconvert_exporter": "python",
   "pygments_lexer": "ipython3",
   "version": "3.11.3"
  }
 },
 "nbformat": 4,
 "nbformat_minor": 5
}
