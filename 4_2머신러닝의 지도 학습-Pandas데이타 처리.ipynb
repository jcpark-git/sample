{
 "cells": [
  {
   "cell_type": "code",
   "execution_count": 3,
   "id": "b84a0904",
   "metadata": {},
   "outputs": [],
   "source": [
    "import pandas as pd #Pandas 라이브러리"
   ]
  },
  {
   "cell_type": "code",
   "execution_count": 5,
   "id": "14afe47e",
   "metadata": {},
   "outputs": [],
   "source": [
    "# 파일로부터 데이터 읽어오기\n",
    "# 파일경로 = 'G:\\\\Python_Project\\\\tensorflow\\\\lemonade.csv' \n",
    "파일경로 = 'https://raw.githubusercontent.com/jcpark-git/sample/master/lemonade.csv'\n",
    "레모네이드 = pd.read_csv(파일경로)\n",
    "\n",
    "# 파일경로 = 'G:\\\\Python_Project\\\\tensorflow\\\\boston.csv'\n",
    "파일경로 = 'https://raw.githubusercontent.com/jcpark-git/sample/master/boston.csv'\n",
    "보스턴 = pd.read_csv(파일경로)\n",
    "\n",
    "# 파일경로 = 'G:\\\\Python_Project\\\\tensorflow\\\\iris.csv'\n",
    "파일경로 = 'https://raw.githubusercontent.com/jcpark-git/sample/master/iris.csv'\n",
    "아이리스 = pd.read_csv(파일경로)"
   ]
  },
  {
   "cell_type": "code",
   "execution_count": 6,
   "id": "56b5ef73",
   "metadata": {},
   "outputs": [
    {
     "name": "stdout",
     "output_type": "stream",
     "text": [
      "(6, 2)\n",
      "(506, 14)\n",
      "(150, 5)\n"
     ]
    }
   ],
   "source": [
    "# 변수에 저장된 데이터의 모양확인\n",
    "print(레모네이드.shape)\n",
    "print(보스턴.shape)\n",
    "print(아이리스.shape)"
   ]
  },
  {
   "cell_type": "code",
   "execution_count": 7,
   "id": "6d51ccda",
   "metadata": {},
   "outputs": [
    {
     "name": "stdout",
     "output_type": "stream",
     "text": [
      "Index(['온도', '판매량'], dtype='object')\n",
      "Index(['crim', 'zn', 'indus', 'chas', 'nox', 'rm', 'age', 'dis', 'rad', 'tax',\n",
      "       'ptratio', 'b', 'lstat', 'medv'],\n",
      "      dtype='object')\n",
      "Index(['꽃잎길이', '꽃잎폭', '꽃받침길이', '꽃받침폭', '품종'], dtype='object')\n"
     ]
    }
   ],
   "source": [
    "# 변수 데이터 칼럼이름 확인\n",
    "print(레모네이드.columns)\n",
    "print(보스턴.columns)\n",
    "print(아이리스.columns)"
   ]
  },
  {
   "cell_type": "code",
   "execution_count": 8,
   "id": "ace34ea9",
   "metadata": {},
   "outputs": [
    {
     "name": "stdout",
     "output_type": "stream",
     "text": [
      "(6, 1) (6, 1)\n",
      "(506, 13) (506, 1)\n",
      "(150, 4) (150, 1)\n"
     ]
    }
   ],
   "source": [
    "# 독립변수와 종속변수 분리\n",
    "독립 = 레모네이드[['온도']]\n",
    "종속 = 레모네이드[['판매량']]\n",
    "print(독립.shape, 종속.shape)\n",
    "\n",
    "독립 = 보스턴[['crim', 'zn', 'indus', 'chas', 'nox', \n",
    "            'rm', 'age', 'dis', 'rad', 'tax',\n",
    "            'ptratio', 'b', 'lstat']]\n",
    "종속 = 보스턴[['medv']]\n",
    "print(독립.shape, 종속.shape)\n",
    "\n",
    "독립 = 아이리스[['꽃잎길이', '꽃잎폭', '꽃받침길이', '꽃받침폭']]\n",
    "종속 = 아이리스[['품종']]\n",
    "print(독립.shape, 종속.shape)"
   ]
  },
  {
   "cell_type": "code",
   "execution_count": null,
   "id": "1db9da88",
   "metadata": {},
   "outputs": [],
   "source": []
  }
 ],
 "metadata": {
  "kernelspec": {
   "display_name": "Python 3 (ipykernel)",
   "language": "python",
   "name": "python3"
  },
  "language_info": {
   "codemirror_mode": {
    "name": "ipython",
    "version": 3
   },
   "file_extension": ".py",
   "mimetype": "text/x-python",
   "name": "python",
   "nbconvert_exporter": "python",
   "pygments_lexer": "ipython3",
   "version": "3.11.3"
  }
 },
 "nbformat": 4,
 "nbformat_minor": 5
}
