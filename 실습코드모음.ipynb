{
 "cells": [
  {
   "cell_type": "code",
   "execution_count": null,
   "id": "ff5f8a01",
   "metadata": {},
   "outputs": [],
   "source": [
    "# for 반복문과 문자열 연산\n",
    "#연습문제1"
   ]
  },
  {
   "cell_type": "markdown",
   "id": "19affc73",
   "metadata": {},
   "source": [
    "\n",
    "*\n",
    "**\n",
    "***\n",
    "****\n",
    "*****\n",
    "******\n",
    "*******\n",
    "********\n",
    "*********\n",
    "**********\n",
    "*********\n",
    "********\n",
    "*******\n",
    "******\n",
    "*****\n",
    "****\n",
    "***\n",
    "**\n",
    "*\n",
    "\n",
    "     * \n",
    "    ***\n",
    "   *****\n",
    "  *******\n",
    " *********\n",
    "***********\n",
    " *********\n",
    "  *******\n",
    "   *****\n",
    "    ***\n",
    "     *"
   ]
  },
  {
   "cell_type": "code",
   "execution_count": null,
   "id": "cdc4d52f",
   "metadata": {},
   "outputs": [],
   "source": [
    "# NumPy배열 슬라이싱\n",
    "#연습문제2\n",
    "m = np.array([[ 0,  1,  2,  3,  4],\n",
    "            [ 5,  6,  7,  8,  9],\n",
    "            [10, 11, 12, 13, 14]])\n",
    "#이 행렬에서 값 7 을 인덱싱한다.\n",
    "# 이 행렬에서 값 14 을 인덱싱한다.\n",
    "# 이 행렬에서 배열 [6, 7] 을 슬라이싱한다.\n",
    "# 이 행렬에서 배열 [7, 12] 을 슬라이싱한다.\n",
    "# 이 행렬에서 배열 [[3, 4], [8, 9]] 을 슬라이싱한다."
   ]
  },
  {
   "cell_type": "code",
   "execution_count": null,
   "id": "230675ae",
   "metadata": {},
   "outputs": [],
   "source": [
    "#NumPy배열생성과 변형\n",
    "#연습문제3\n",
    "#아래와 동일한 배열을 생성 메소드(one, zero, tile)\n",
    "array([[   0.,    0.,    0.,    1.,    1.],\n",
    "        [   0.,    0.,    0.,    1.,    1.],\n",
    "        [   0.,    0.,    0.,    1.,    1.],\n",
    "        [  10.,   20.,   30.,   40.,   50.],\n",
    "        [  60.,   70.,   80.,   90.,  100.],\n",
    "        [ 110.,  120.,  130.,  140.,  150.],\n",
    "        [   0.,    0.,    0.,    1.,    1.],\n",
    "        [   0.,    0.,    0.,    1.,    1.],\n",
    "        [   0.,    0.,    0.,    1.,    1.],\n",
    "        [  10.,   20.,   30.,   40.,   50.],\n",
    "        [  60.,   70.,   80.,   90.,  100.],\n",
    "        [ 110.,  120.,  130.,  140.,  150.]])"
   ]
  },
  {
   "cell_type": "code",
   "execution_count": null,
   "id": "97cb8763",
   "metadata": {},
   "outputs": [],
   "source": [
    "#NumPy정렬\n",
    "#연습문제 4\n",
    "#첫 번째 행:학번,  두번째 행:영어성적,  세번째 행:수학성적 일 때, 영어성적을 기준으로 모든 열을 재정렬하라\n",
    "\n",
    "x=np.array([[  1,    2,    3,    4],  \n",
    "       [ 46,   99,  100,   71],\n",
    "       [ 81,   59,   90,  100]])"
   ]
  },
  {
   "cell_type": "code",
   "execution_count": null,
   "id": "504fe75a",
   "metadata": {},
   "outputs": [],
   "source": [
    "#데이터프레임 클래스 생성\n",
    "data = {\n",
    "    \"2015\": [9904312, 3448737, 2890451, 2466052],\n",
    "    \"2010\": [9631482, 3393191, 2632035, 2431774],\n",
    "    \"2005\": [9762546, 3512547, 2517680, 2456016],\n",
    "    \"2000\": [9853972, 3655437, 2466338, 2473990],\n",
    "    \"지역\": [\"수도권\", \"경상권\", \"수도권\", \"경상권\"],\n",
    "    \"2010-2015 증가율\": [0.0283, 0.0163, 0.0982, 0.0141]\n",
    "}  #딕셔너리\n",
    "columns = [\"지역\", \"2015\", \"2010\", \"2005\", \"2000\", \"2010-2015 증가율\"] #열방향 인덱스\n",
    "index = [\"서울\", \"부산\", \"인천\", \"대구\"]                               #행방향 인덱스\n",
    "df = pd.DataFrame(data, index=index, columns=columns)\n",
    "df"
   ]
  },
  {
   "cell_type": "code",
   "execution_count": null,
   "id": "b494ef5e",
   "metadata": {},
   "outputs": [],
   "source": [
    "#데이타 프레임 인덱싱\n",
    "#연습문제5\n",
    "data = {\n",
    "    \"국어\": [80, 90, 70, 30],\n",
    "    \"영어\": [90, 70, 60, 40],\n",
    "    \"수학\": [90, 60, 80, 70],\n",
    "}\n",
    "columns = [\"국어\", \"영어\", \"수학\"]\n",
    "index = [\"춘향\", \"몽룡\", \"향단\", \"방자\"]\n",
    "df = pd.DataFrame(data, index=index, columns=columns)\n",
    "df"
   ]
  },
  {
   "cell_type": "code",
   "execution_count": null,
   "id": "d56b026c",
   "metadata": {},
   "outputs": [],
   "source": [
    "#데이타 프레임 고급인덱싱 \n",
    "df = pd.DataFrame(np.arange(10, 22).reshape(3, 4),\n",
    "                  index=[\"a\", \"b\", \"c\"],\n",
    "                  columns=[\"A\", \"B\", \"C\", \"D\"])\n",
    "df"
   ]
  },
  {
   "cell_type": "code",
   "execution_count": 1,
   "id": "6f992870",
   "metadata": {
    "scrolled": true
   },
   "outputs": [
    {
     "data": {
      "text/html": [
       "<div>\n",
       "<style scoped>\n",
       "    .dataframe tbody tr th:only-of-type {\n",
       "        vertical-align: middle;\n",
       "    }\n",
       "\n",
       "    .dataframe tbody tr th {\n",
       "        vertical-align: top;\n",
       "    }\n",
       "\n",
       "    .dataframe thead th {\n",
       "        text-align: right;\n",
       "    }\n",
       "</style>\n",
       "<table border=\"1\" class=\"dataframe\">\n",
       "  <thead>\n",
       "    <tr style=\"text-align: right;\">\n",
       "      <th></th>\n",
       "      <th>survived</th>\n",
       "      <th>pclass</th>\n",
       "      <th>sex</th>\n",
       "      <th>age</th>\n",
       "      <th>sibsp</th>\n",
       "      <th>parch</th>\n",
       "      <th>fare</th>\n",
       "      <th>embarked</th>\n",
       "      <th>class</th>\n",
       "      <th>who</th>\n",
       "      <th>adult_male</th>\n",
       "      <th>deck</th>\n",
       "      <th>embark_town</th>\n",
       "      <th>alive</th>\n",
       "      <th>alone</th>\n",
       "    </tr>\n",
       "  </thead>\n",
       "  <tbody>\n",
       "    <tr>\n",
       "      <th>0</th>\n",
       "      <td>0</td>\n",
       "      <td>3</td>\n",
       "      <td>male</td>\n",
       "      <td>22.0</td>\n",
       "      <td>1</td>\n",
       "      <td>0</td>\n",
       "      <td>7.2500</td>\n",
       "      <td>S</td>\n",
       "      <td>Third</td>\n",
       "      <td>man</td>\n",
       "      <td>True</td>\n",
       "      <td>NaN</td>\n",
       "      <td>Southampton</td>\n",
       "      <td>no</td>\n",
       "      <td>False</td>\n",
       "    </tr>\n",
       "    <tr>\n",
       "      <th>1</th>\n",
       "      <td>1</td>\n",
       "      <td>1</td>\n",
       "      <td>female</td>\n",
       "      <td>38.0</td>\n",
       "      <td>1</td>\n",
       "      <td>0</td>\n",
       "      <td>71.2833</td>\n",
       "      <td>C</td>\n",
       "      <td>First</td>\n",
       "      <td>woman</td>\n",
       "      <td>False</td>\n",
       "      <td>C</td>\n",
       "      <td>Cherbourg</td>\n",
       "      <td>yes</td>\n",
       "      <td>False</td>\n",
       "    </tr>\n",
       "    <tr>\n",
       "      <th>2</th>\n",
       "      <td>1</td>\n",
       "      <td>3</td>\n",
       "      <td>female</td>\n",
       "      <td>26.0</td>\n",
       "      <td>0</td>\n",
       "      <td>0</td>\n",
       "      <td>7.9250</td>\n",
       "      <td>S</td>\n",
       "      <td>Third</td>\n",
       "      <td>woman</td>\n",
       "      <td>False</td>\n",
       "      <td>NaN</td>\n",
       "      <td>Southampton</td>\n",
       "      <td>yes</td>\n",
       "      <td>True</td>\n",
       "    </tr>\n",
       "    <tr>\n",
       "      <th>3</th>\n",
       "      <td>1</td>\n",
       "      <td>1</td>\n",
       "      <td>female</td>\n",
       "      <td>35.0</td>\n",
       "      <td>1</td>\n",
       "      <td>0</td>\n",
       "      <td>53.1000</td>\n",
       "      <td>S</td>\n",
       "      <td>First</td>\n",
       "      <td>woman</td>\n",
       "      <td>False</td>\n",
       "      <td>C</td>\n",
       "      <td>Southampton</td>\n",
       "      <td>yes</td>\n",
       "      <td>False</td>\n",
       "    </tr>\n",
       "    <tr>\n",
       "      <th>4</th>\n",
       "      <td>0</td>\n",
       "      <td>3</td>\n",
       "      <td>male</td>\n",
       "      <td>35.0</td>\n",
       "      <td>0</td>\n",
       "      <td>0</td>\n",
       "      <td>8.0500</td>\n",
       "      <td>S</td>\n",
       "      <td>Third</td>\n",
       "      <td>man</td>\n",
       "      <td>True</td>\n",
       "      <td>NaN</td>\n",
       "      <td>Southampton</td>\n",
       "      <td>no</td>\n",
       "      <td>True</td>\n",
       "    </tr>\n",
       "  </tbody>\n",
       "</table>\n",
       "</div>"
      ],
      "text/plain": [
       "   survived  pclass     sex   age  sibsp  parch     fare embarked  class  \\\n",
       "0         0       3    male  22.0      1      0   7.2500        S  Third   \n",
       "1         1       1  female  38.0      1      0  71.2833        C  First   \n",
       "2         1       3  female  26.0      0      0   7.9250        S  Third   \n",
       "3         1       1  female  35.0      1      0  53.1000        S  First   \n",
       "4         0       3    male  35.0      0      0   8.0500        S  Third   \n",
       "\n",
       "     who  adult_male deck  embark_town alive  alone  \n",
       "0    man        True  NaN  Southampton    no  False  \n",
       "1  woman       False    C    Cherbourg   yes  False  \n",
       "2  woman       False  NaN  Southampton   yes   True  \n",
       "3  woman       False    C  Southampton   yes  False  \n",
       "4    man        True  NaN  Southampton    no   True  "
      ]
     },
     "execution_count": 1,
     "metadata": {},
     "output_type": "execute_result"
    }
   ],
   "source": [
    "#데이타 프레임 데이터조작\n",
    "#연습문제 6\n",
    "#sort_values, value_counts 메서드를 사용하여 타이타닉호 승객에 대해 \n",
    "# 성별(sex) 인원수, 나이별(age) 인원수, 사망/생존(alive) 인원수를 구하라.\n",
    "import seaborn as sns\n",
    "titanic = sns.load_dataset(\"titanic\")\n",
    "titanic.head()"
   ]
  },
  {
   "cell_type": "code",
   "execution_count": null,
   "id": "31c0d2ce",
   "metadata": {},
   "outputs": [],
   "source": [
    "#연습문제 7\n",
    "# 1.타이타닉호 승객의 평균 나이를 구하라.\n",
    "# 2.타이타닉호 승객중 여성 승객의 평균 나이를 구하라.\n",
    "# 3.타이타닉호 승객중 1등실 선실의 여성 승객의 평균 나이를 구하라."
   ]
  },
  {
   "cell_type": "code",
   "execution_count": null,
   "id": "bf1226ee",
   "metadata": {},
   "outputs": [],
   "source": [
    "#데이타 프레임 합성\n",
    "#merge함수\n",
    "df1 = pd.DataFrame({\n",
    "    '고객번호': [1001, 1002, 1003, 1004, 1005, 1006, 1007],\n",
    "    '이름': ['둘리', '도우너', '또치', '길동', '희동', '마이콜', '영희']\n",
    "}, columns=['고객번호', '이름'])\n",
    "df1"
   ]
  },
  {
   "cell_type": "code",
   "execution_count": null,
   "id": "968d3e4f",
   "metadata": {},
   "outputs": [],
   "source": [
    "df2 = pd.DataFrame({\n",
    "    '고객번호': [1001, 1001, 1005, 1006, 1008, 1001],\n",
    "    '금액': [10000, 20000, 15000, 5000, 100000, 30000]\n",
    "}, columns=['고객번호', '금액'])\n",
    "df2"
   ]
  },
  {
   "cell_type": "code",
   "execution_count": null,
   "id": "2f7663a2",
   "metadata": {},
   "outputs": [],
   "source": [
    "#중복된 키가 여러개 있는 경우\n",
    "df1 = pd.DataFrame({\n",
    "    '품종': ['setosa', 'setosa', 'virginica', 'virginica'],\n",
    "    '꽃잎길이': [1.4, 1.3, 1.5, 1.3]},\n",
    "    columns=['품종', '꽃잎길이'])\n",
    "df1"
   ]
  },
  {
   "cell_type": "code",
   "execution_count": null,
   "id": "f85549be",
   "metadata": {},
   "outputs": [],
   "source": [
    "df2 = pd.DataFrame({\n",
    "    '품종': ['setosa', 'virginica', 'virginica', 'versicolor'],\n",
    "    '꽃잎너비': [0.4, 0.3, 0.5, 0.3]},\n",
    "    columns=['품종', '꽃잎너비'])\n",
    "df2"
   ]
  },
  {
   "cell_type": "code",
   "execution_count": null,
   "id": "97b97860",
   "metadata": {},
   "outputs": [],
   "source": [
    "#기준열 on인수 사용\n",
    "df1 = pd.DataFrame({\n",
    "    '고객명': ['춘향', '춘향', '몽룡'],\n",
    "    '날짜': ['2018-01-01', '2018-01-02', '2018-01-01'],\n",
    "    '데이터': ['20000', '30000', '100000']})\n",
    "df1"
   ]
  },
  {
   "cell_type": "code",
   "execution_count": null,
   "id": "4e6a03b7",
   "metadata": {},
   "outputs": [],
   "source": [
    "df2 = pd.DataFrame({\n",
    "    '고객명': ['춘향', '몽룡'],\n",
    "    '데이터': ['여자', '남자']})\n",
    "df2"
   ]
  },
  {
   "cell_type": "code",
   "execution_count": null,
   "id": "37621856",
   "metadata": {},
   "outputs": [],
   "source": [
    "#index를 기준열로 하는 경우의 merage\n",
    "df1 = pd.DataFrame({\n",
    "    '도시': ['서울', '서울', '서울', '부산', '부산'],\n",
    "    '연도': [2000, 2005, 2010, 2000, 2005],\n",
    "    '인구': [9853972, 9762546, 9631482, 3655437, 3512547]})\n",
    "df1"
   ]
  },
  {
   "cell_type": "code",
   "execution_count": null,
   "id": "9aa32783",
   "metadata": {},
   "outputs": [],
   "source": [
    "df2 = pd.DataFrame(\n",
    "    np.arange(12).reshape((6, 2)),\n",
    "    index=[['부산', '부산', '서울', '서울', '서울', '서울'],\n",
    "           [2000, 2005, 2000, 2005, 2010, 2015]],\n",
    "    columns=['데이터1', '데이터2'])\n",
    "df2"
   ]
  },
  {
   "cell_type": "markdown",
   "id": "a9e4613c",
   "metadata": {},
   "source": [
    "#3.3 데이타 입출력\n",
    "인터넷 상의 CSV파일 입력 KRX정보데이터시스템 http://data.krx.co.kr/contents/MDC/MDI/mdiLoader/index.cmd?menuId=MDC0201020201"
   ]
  },
  {
   "cell_type": "code",
   "execution_count": null,
   "id": "9de495d9",
   "metadata": {},
   "outputs": [],
   "source": [
    "#FRED데이터베이스 미국국가총생산 GDP\n",
    "import pandas_datareader as pdr\n",
    "import datetime\n",
    "dt_start = datetime.datetime(2010, 1, 1)\n",
    "dt_end = \"2023, 6, 30\"\n",
    "gdp = pdr.get_data_fred('GDP', dt_start, dt_end)\n",
    "gdp.tail()"
   ]
  },
  {
   "cell_type": "code",
   "execution_count": null,
   "id": "0d72f5e2",
   "metadata": {},
   "outputs": [],
   "source": [
    "import FinanceDataReader as fdr\n",
    "\n",
    "# 한국거래소 상장종목 전체\n",
    "df_krx = fdr.StockListing('KRX')\n",
    "df_krx.head()"
   ]
  },
  {
   "cell_type": "code",
   "execution_count": null,
   "id": "7233c8bb",
   "metadata": {},
   "outputs": [],
   "source": [
    "# 에코프로비엠\n",
    "df = fdr.DataReader('247540', '2023')  #종목코드, 년도\n",
    "df['Change']=round(df['Change']*100,2)\n",
    "df.tail(10)"
   ]
  },
  {
   "cell_type": "code",
   "execution_count": null,
   "id": "228e4362",
   "metadata": {},
   "outputs": [],
   "source": [
    "import matplotlib as mpl\n",
    "import matplotlib.pyplot as plt\n",
    "\n",
    "df = fdr.DataReader('247540', '2021')\n",
    "df['Close'].plot(c=\"b\",lw=1, marker=\"o\", ms=2, mec=\"r\", mew=2, mfc=\"r\") #종가\n",
    "plt.rc('font', family='Gothic')\n",
    "plt.title(\"에코프로비엠 일일 종가변화\")\n",
    "plt.xlabel(\"날짜\")\n",
    "plt.ylabel(\"가격\")"
   ]
  },
  {
   "cell_type": "code",
   "execution_count": null,
   "id": "b9a8afa4",
   "metadata": {},
   "outputs": [],
   "source": [
    "# KS11 (KOSPI 지수), 2015년~현재\n",
    "df = fdr.DataReader('KS11', '2018')\n",
    "df['Close'].plot()"
   ]
  },
  {
   "cell_type": "code",
   "execution_count": null,
   "id": "89c054ff",
   "metadata": {},
   "outputs": [],
   "source": [
    "#matplotlib 한글폰트설정"
   ]
  },
  {
   "cell_type": "code",
   "execution_count": null,
   "id": "92aa7e08",
   "metadata": {},
   "outputs": [],
   "source": [
    "#Matplotlib, pyplot서브 패키지\n",
    "import matplotlib as mpl\n",
    "import matplotlib.pyplot as plt\n",
    "#폰트디렉토리위치\n",
    "mpl.matplotlib_fname()  "
   ]
  },
  {
   "cell_type": "code",
   "execution_count": null,
   "id": "c61fc503",
   "metadata": {},
   "outputs": [],
   "source": [
    "mpl.get_cachedir()"
   ]
  },
  {
   "cell_type": "code",
   "execution_count": null,
   "id": "fdd6b8dd",
   "metadata": {},
   "outputs": [],
   "source": [
    "# 폰트 설정\n",
    "mpl.rc('font', family='NanumGothic')\n",
    "# 유니코드에서  음수 부호설정\n",
    "mpl.rc('axes', unicode_minus=False)"
   ]
  },
  {
   "cell_type": "code",
   "execution_count": null,
   "id": "96e3f53e",
   "metadata": {},
   "outputs": [],
   "source": [
    "plt.rc('font', family='NanumGothic')\n",
    "plt.title('한글 제목')\n",
    "plt.plot([10, 20, 30, 40], [1, 4, 9, 16], 'rs--')\n",
    "plt.xlabel(\"엑스축 라벨\")\n",
    "plt.ylabel(\"와이축 라벨\")\n",
    "plt.show()"
   ]
  },
  {
   "cell_type": "code",
   "execution_count": null,
   "id": "503eb599",
   "metadata": {},
   "outputs": [],
   "source": [
    "#pandas 시각화 기능\n",
    "import pandas as pd\n",
    "import numpy as np\n",
    "\n",
    "np.random.seed(0)\n",
    "df1 = pd.DataFrame(np.random.randn(100, 3),\n",
    "                   index=pd.date_range('1/1/2023', periods=100),\n",
    "                   columns=['A', 'B', 'C']).cumsum()\n",
    "df1.tail()"
   ]
  },
  {
   "cell_type": "code",
   "execution_count": null,
   "id": "6dabefec",
   "metadata": {},
   "outputs": [],
   "source": [
    "df1.plot()\n",
    "# 폰트 설정\n",
    "plt.rc('font', family='NanumGothic')\n",
    "# 유니코드에서  음수 부호설정\n",
    "plt.rc('axes', unicode_minus=False)\n",
    "plt.title(\"Pandas의 Plot메소드 사용 예\")\n",
    "plt.xlabel(\"시간\")\n",
    "plt.ylabel(\"Data\")\n",
    "plt.show()"
   ]
  }
 ],
 "metadata": {
  "kernelspec": {
   "display_name": "Python 3 (ipykernel)",
   "language": "python",
   "name": "python3"
  },
  "language_info": {
   "codemirror_mode": {
    "name": "ipython",
    "version": 3
   },
   "file_extension": ".py",
   "mimetype": "text/x-python",
   "name": "python",
   "nbconvert_exporter": "python",
   "pygments_lexer": "ipython3",
   "version": "3.11.3"
  }
 },
 "nbformat": 4,
 "nbformat_minor": 5
}
