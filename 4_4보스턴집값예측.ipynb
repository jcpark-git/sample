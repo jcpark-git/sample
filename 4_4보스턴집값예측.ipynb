{
 "cells": [
  {
   "cell_type": "code",
   "execution_count": null,
   "id": "72fc18c7",
   "metadata": {},
   "outputs": [],
   "source": [
    "###########################\n",
    "# 라이브러리 사용\n",
    "import tensorflow as tf\n",
    "import pandas as pd"
   ]
  },
  {
   "cell_type": "code",
   "execution_count": null,
   "id": "5d557b52",
   "metadata": {},
   "outputs": [],
   "source": [
    "##########################\n",
    "# 1.과거의 데이터를 준비합니다.\n",
    "# 파일경로 ='G:\\\\Python_Project\\\\tensorflow\\\\boston.csv'\n",
    "파일경로 = 'https://raw.githubusercontent.com/jcpark-git/sample/master/boston.csv'\n",
    "보스턴 = pd.read_csv(파일경로)\n",
    "print(보스턴.columns)\n",
    "보스턴.head()"
   ]
  },
  {
   "cell_type": "code",
   "execution_count": null,
   "id": "95359d1d",
   "metadata": {},
   "outputs": [],
   "source": [
    "#독립변수, 종속변수 분리 \n",
    "독립 = 보스턴[['crim', 'zn', 'indus', 'chas', 'nox', 'rm', 'age', 'dis', 'rad', 'tax',\n",
    "            'ptratio', 'b', 'lstat']]\n",
    "종속 = 보스턴[['medv']]\n",
    "#type(종속)\n",
    "print(독립.shape, 종속.shape)"
   ]
  },
  {
   "cell_type": "code",
   "execution_count": null,
   "id": "d34daffb",
   "metadata": {},
   "outputs": [],
   "source": [
    "###########################\n",
    "# 2. 모델의 구조를 만듭니다\n",
    "X = tf.keras.layers.Input(shape=[13])\n",
    "Y = tf.keras.layers.Dense(1)(X)\n",
    "model = tf.keras.models.Model(X, Y)\n",
    "model.compile(loss='mse')"
   ]
  },
  {
   "cell_type": "code",
   "execution_count": null,
   "id": "86e35919",
   "metadata": {
    "scrolled": false
   },
   "outputs": [],
   "source": [
    "model.summary()"
   ]
  },
  {
   "cell_type": "code",
   "execution_count": null,
   "id": "1bcccf34",
   "metadata": {
    "scrolled": true
   },
   "outputs": [],
   "source": [
    "###########################\n",
    "# 3.데이터로 모델을 학습(FIT)합니다.\n",
    "model.fit(독립, 종속, epochs=1000, verbose=0)\n",
    "model.fit(독립, 종속, epochs=10)"
   ]
  },
  {
   "cell_type": "code",
   "execution_count": null,
   "id": "b0291f33",
   "metadata": {},
   "outputs": [],
   "source": []
  },
  {
   "cell_type": "code",
   "execution_count": null,
   "id": "7a7b8c8b",
   "metadata": {},
   "outputs": [],
   "source": [
    "###########################\n",
    "# 4. 모델을 이용합니다\n",
    "print(model.predict(독립[5:10]))\n",
    "# 종속변수 확인\n",
    "print(종속[5:10])"
   ]
  },
  {
   "cell_type": "code",
   "execution_count": null,
   "id": "7f54651d",
   "metadata": {},
   "outputs": [],
   "source": [
    "###########################\n",
    "# 모델의 수식 확인\n",
    "print(model.get_weights())"
   ]
  }
 ],
 "metadata": {
  "kernelspec": {
   "display_name": "Python 3 (ipykernel)",
   "language": "python",
   "name": "python3"
  },
  "language_info": {
   "codemirror_mode": {
    "name": "ipython",
    "version": 3
   },
   "file_extension": ".py",
   "mimetype": "text/x-python",
   "name": "python",
   "nbconvert_exporter": "python",
   "pygments_lexer": "ipython3",
   "version": "3.11.3"
  }
 },
 "nbformat": 4,
 "nbformat_minor": 5
}
