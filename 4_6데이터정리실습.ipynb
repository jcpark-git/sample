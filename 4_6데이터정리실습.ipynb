{
 "cells": [
  {
   "cell_type": "code",
   "execution_count": null,
   "id": "e5658bce",
   "metadata": {},
   "outputs": [],
   "source": [
    "###########################\n",
    "# 라이브러리 사용\n",
    "import pandas as pd\n",
    " \n",
    "###########################\n",
    "# 파일 읽어오기\n",
    "# 파일경로 = 'G:\\\\Python_Project\\\\tensorflow\\\\iris2.csv'\n",
    "파일경로 = 'https://raw.githubusercontent.com/jcpark-git/sample/master/iris2.csv'\n",
    "아이리스 = pd.read_csv(파일경로)\n",
    "아이리스.head() "
   ]
  },
  {
   "cell_type": "code",
   "execution_count": null,
   "id": "a918adb9",
   "metadata": {},
   "outputs": [],
   "source": [
    "###########################\n",
    "# 칼럼의 데이터 타입 체크\n",
    "print(아이리스.dtypes)"
   ]
  },
  {
   "cell_type": "code",
   "execution_count": null,
   "id": "c0d4e4d9",
   "metadata": {},
   "outputs": [],
   "source": [
    "# 원핫인코딩 되지 않는 현상 확인\n",
    "#숫자이기 때문에 범주형으로 인식을 하지 않는다\n",
    "인코딩 = pd.get_dummies(아이리스)\n",
    "인코딩.head()"
   ]
  },
  {
   "cell_type": "code",
   "execution_count": null,
   "id": "05559488",
   "metadata": {},
   "outputs": [],
   "source": [
    "###########################\n",
    "# 품종 타입을 범주형(category, object)으로 바꾸어 준다. \n",
    "아이리스['품종'] = 아이리스['품종'].astype('category')\n",
    "print(아이리스.dtypes)"
   ]
  },
  {
   "cell_type": "code",
   "execution_count": null,
   "id": "8670dfb4",
   "metadata": {},
   "outputs": [],
   "source": [
    "# 카테고리 타입의 변수만 원핫인코딩\n",
    "인코딩 = pd.get_dummies(아이리스)\n",
    "인코딩.head()"
   ]
  },
  {
   "cell_type": "code",
   "execution_count": null,
   "id": "feecd090",
   "metadata": {
    "scrolled": true
   },
   "outputs": [],
   "source": [
    "###########################\n",
    "# NA값을 체크해 봅시다. \n",
    "아이리스.isna().sum()"
   ]
  },
  {
   "cell_type": "code",
   "execution_count": null,
   "id": "a0e58c43",
   "metadata": {},
   "outputs": [],
   "source": [
    "아이리스.tail()"
   ]
  },
  {
   "cell_type": "code",
   "execution_count": null,
   "id": "03e85b67",
   "metadata": {},
   "outputs": [],
   "source": [
    "###########################\n",
    "# NA값에 꽃잎폭 평균값을 넣어주는 방법\n",
    "mean = 아이리스['꽃잎폭'].mean()\n",
    "print(mean)\n",
    "아이리스['꽃잎폭'] = round(아이리스['꽃잎폭'].fillna(mean),1)\n",
    "아이리스.tail()"
   ]
  },
  {
   "cell_type": "code",
   "execution_count": null,
   "id": "42bcfca0",
   "metadata": {},
   "outputs": [],
   "source": []
  }
 ],
 "metadata": {
  "kernelspec": {
   "display_name": "Python 3 (ipykernel)",
   "language": "python",
   "name": "python3"
  },
  "language_info": {
   "codemirror_mode": {
    "name": "ipython",
    "version": 3
   },
   "file_extension": ".py",
   "mimetype": "text/x-python",
   "name": "python",
   "nbconvert_exporter": "python",
   "pygments_lexer": "ipython3",
   "version": "3.11.3"
  }
 },
 "nbformat": 4,
 "nbformat_minor": 5
}
